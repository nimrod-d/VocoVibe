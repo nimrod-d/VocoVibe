{
 "cells": [
  {
   "cell_type": "code",
   "execution_count": 5,
   "id": "f6b447ae-9312-4e68-b599-dd279103fc46",
   "metadata": {
    "tags": []
   },
   "outputs": [],
   "source": [
    "import librosa\n",
    "import librosa.display\n",
    "import librosa.feature\n",
    "import soundfile\n",
    "import os, glob, pickle\n",
    "import pandas as pd\n",
    "import numpy as np\n",
    "import matplotlib.pyplot as plt\n",
    "import seaborn as sns\n",
    "from IPython.display import Audio\n",
    "from sklearn.model_selection import train_test_split, cross_val_score, GridSearchCV\n",
    "from sklearn.metrics import accuracy_score, accuracy_score, classification_report, confusion_matrix\n",
    "from sklearn.ensemble import ExtraTreesClassifier\n",
    "from pycaret.classification import setup, compare_models, plot_model\n",
    "from sklearn.preprocessing import MinMaxScaler, PowerTransformer, StandardScaler\n",
    "from sklearn.preprocessing import OneHotEncoder\n",
    "from sklearn.multioutput import MultiOutputClassifier\n",
    "\n",
    "\n",
    "\n",
    "\n",
    "\n",
    "\n",
    "\n"
   ]
  },
  {
   "cell_type": "code",
   "execution_count": 8,
   "id": "72830bb2-8bf9-4f10-9a28-bcb3f190e77e",
   "metadata": {
    "tags": []
   },
   "outputs": [
    {
     "data": {
      "text/plain": [
       "negative    768\n",
       "neutral     480\n",
       "happy       192\n",
       "Name: emotions, dtype: int64"
      ]
     },
     "execution_count": 8,
     "metadata": {},
     "output_type": "execute_result"
    }
   ],
   "source": [
    "# ravdess data\n",
    "\n",
    "wav_files = 'voice_file/'\n",
    "ravdess_directory_list = os.listdir(wav_files)\n",
    "\n",
    "file_emotion = []\n",
    "file_path = []\n",
    "temp = []\n",
    "\n",
    "for dir in ravdess_directory_list:\n",
    "    actor_files = os.listdir(os.path.join(wav_files, dir))\n",
    "    for file in actor_files:\n",
    "        part = file.split('.')[0]\n",
    "        part = part.split('-')\n",
    "        temp.append(part)\n",
    "        file_path.append(wav_files + dir + '/' + file)\n",
    "    for i in temp:\n",
    "        if len(i) >= 3:  \n",
    "            file_emotion.append(int(i[2]))  \n",
    "        else:\n",
    "            file_emotion.append(None)\n",
    "            \n",
    "\n",
    "\n",
    "path_df = pd.DataFrame(file_path, columns=['path'])\n",
    "emotion_df = pd.DataFrame(file_emotion, columns=['emotions'])\n",
    "emotion_df.dropna(inplace=True)\n",
    "\n",
    "ravdess_df = pd.concat([emotion_df, path_df], axis=1)\n",
    "\n",
    "# Original setup {1:'neutral', 2:'calm', 3:'happy', 4:'sad', 5:'angry', 6:'fear', 7:'disgust', 8:'surprise'}\n",
    "\n",
    "ravdess_df.emotions.replace({1:'neutral', 2:'neutral', 3:'happy', 4:'negative', 5:'negative', 6:'negative', 7:'negative', 8:'neutral'}, inplace=True)\n",
    "ravdess_df['emotion_num'] = file_emotion\n",
    "\n",
    "\n",
    "ravdess_df.dropna(inplace=True)\n",
    "ravdess_df['emotions'].value_counts()"
   ]
  },
  {
   "cell_type": "code",
   "execution_count": 39,
   "id": "8f2e0468-a154-4fb0-a6b5-6091d3767c15",
   "metadata": {
    "tags": []
   },
   "outputs": [],
   "source": [
    "ravdess_df.emotion_num.replace({'neutral':1, 'happy':2, 'negative':3}, inplace=True)\n",
    "# ravdess_df['emotions'].hist(grid=False , figsize=(5,3))"
   ]
  },
  {
   "cell_type": "code",
   "execution_count": 38,
   "id": "3a6b1e4a-363c-482e-a230-b9a15da577bd",
   "metadata": {
    "tags": []
   },
   "outputs": [
    {
     "data": {
      "text/plain": [
       "negative    5079\n",
       "happy       1270\n",
       "neutral     1086\n",
       "Name: emotions, dtype: int64"
      ]
     },
     "execution_count": 38,
     "metadata": {},
     "output_type": "execute_result"
    }
   ],
   "source": [
    "# crema data\n",
    "\n",
    "crema_directory_list = os.listdir('Crema')\n",
    "\n",
    "file_emotion = []\n",
    "file_path = []\n",
    "\n",
    "for file in crema_directory_list:\n",
    "    # storing file paths\n",
    "    file_path.append('Crema/' + file)\n",
    "    # storing file emotions\n",
    "    part=file.split('_')\n",
    "    if part[2] == 'SAD':\n",
    "        file_emotion.append('sad')\n",
    "    elif part[2] == 'ANG':\n",
    "        file_emotion.append('angry')\n",
    "    elif part[2] == 'DIS':\n",
    "        file_emotion.append('disgust')\n",
    "    elif part[2] == 'FEA':\n",
    "        file_emotion.append('fear')\n",
    "    elif part[2] == 'HAP':\n",
    "        file_emotion.append('happy')\n",
    "    elif part[2] == 'NEU':\n",
    "        file_emotion.append('neutral')\n",
    "    else:\n",
    "        file_emotion.append('Unknown')\n",
    "        \n",
    "# dataframe for emotion of files\n",
    "emotion_df = pd.DataFrame(file_emotion, columns=['emotions'])\n",
    "\n",
    "# dataframe for path of files.\n",
    "path_df = pd.DataFrame(file_path, columns=['path'])\n",
    "crema_df = pd.concat([emotion_df, path_df], axis=1)\n",
    "\n",
    "crema_df['emotion_num'] = file_emotion\n",
    "# Orginal {'neutral':1, 'calm':2, 'happy':3, 'sad':4, 'angry':5 , 'fear':6, 'disgust':7, 'surprise':8}\n",
    "crema_df['emotions'].replace({'neutral':'neutral', 'happy':'happy', 'sad':'negative', 'angry':'negative' , 'fear':'negative', 'disgust':'negative', 'surprise':'neutral'}, inplace=True)\n",
    "\n",
    "# print(Crema_df.emotions.value_counts())\n",
    "crema_df['emotions'].value_counts()\n",
    "\n",
    "# crema_df['emotions'].hist(grid=False, figsize=(5,3))"
   ]
  },
  {
   "cell_type": "code",
   "execution_count": 37,
   "id": "d4a8e3b1-f868-4b47-b6d2-9f3dbcadbd4c",
   "metadata": {
    "tags": []
   },
   "outputs": [
    {
     "data": {
      "text/plain": [
       "negative    1600\n",
       "neutral      800\n",
       "happy        400\n",
       "Name: emotions, dtype: int64"
      ]
     },
     "execution_count": 37,
     "metadata": {},
     "output_type": "execute_result"
    }
   ],
   "source": [
    "Tess = 'Tess/'\n",
    "tess_directory_list = os.listdir(Tess)\n",
    "\n",
    "file_emotion = []\n",
    "file_path = []\n",
    "\n",
    "for dir in tess_directory_list:\n",
    "    directories = os.listdir(Tess + dir)\n",
    "    for file in directories:\n",
    "        part = file.split('.')[0]\n",
    "        part = part.split('_')[2]\n",
    "        if part=='ps':\n",
    "            file_emotion.append('surprise')\n",
    "        else:\n",
    "            file_emotion.append(part)\n",
    "        file_path.append(Tess + dir + '/' + file)\n",
    "        \n",
    "# dataframe for emotion of files\n",
    "emotion_df = pd.DataFrame(file_emotion, columns=['emotions'])\n",
    "\n",
    "\n",
    "\n",
    "# dataframe for path of files.\n",
    "path_df = pd.DataFrame(file_path, columns=['path'])\n",
    "\n",
    "tess_df = pd.concat([emotion_df, path_df], axis=1)\n",
    "tess_df['emotion_num'] = file_emotion\n",
    "tess_df['emotions'].replace({'neutral':'neutral', 'happy':'happy', 'sad':'negative', 'angry':'negative' , 'fear':'negative', 'disgust':'negative', 'surprise':'neutral'}, inplace=True)\n",
    "tess_df['emotions'].value_counts()\n",
    "\n",
    "# tess_df.emotions.hist(grid=False, figsize=(5,3))"
   ]
  },
  {
   "cell_type": "code",
   "execution_count": 36,
   "id": "82aa50df-25d9-4aa0-a689-c5ed72f30832",
   "metadata": {
    "tags": []
   },
   "outputs": [
    {
     "data": {
      "text/plain": [
       "negative    240\n",
       "neutral     180\n",
       "happy        60\n",
       "Name: emotions, dtype: int64"
      ]
     },
     "execution_count": 36,
     "metadata": {},
     "output_type": "execute_result"
    }
   ],
   "source": [
    "dir_list = os.listdir('Savee')\n",
    "\n",
    "# parse the filename to get the emotions\n",
    "emotion=[]\n",
    "path = []\n",
    "for i in dir_list:\n",
    "    if i[-8:-6]=='_a':\n",
    "        emotion.append('angry')\n",
    "    elif i[-8:-6]=='_d':\n",
    "        emotion.append('disgust')\n",
    "    elif i[-8:-6]=='_f':\n",
    "        emotion.append('fear')\n",
    "    elif i[-8:-6]=='_h':\n",
    "        emotion.append('happy')\n",
    "    elif i[-8:-6]=='_n':\n",
    "        emotion.append('neutral')\n",
    "    elif i[-8:-6]=='sa':\n",
    "        emotion.append('sad')\n",
    "    elif i[-8:-6]=='su':\n",
    "        emotion.append('surprise')\n",
    "    else:\n",
    "        emotion.append('unknown') \n",
    "    path.append('Savee/' + i)\n",
    "\n",
    "# Now check out the label count distribution \n",
    "savee_df = pd.DataFrame(emotion, columns = ['emotions'])\n",
    "savee_df = pd.concat([savee_df, pd.DataFrame(path, columns = ['path'])], axis = 1)\n",
    "\n",
    "savee_df['emotion_num'] = emotion\n",
    "savee_df['emotions'].replace({'neutral':'neutral', 'happy':'happy', 'sad':'negative', 'angry':'negative' , 'fear':'negative', 'disgust':'negative', 'surprise':'neutral'}, inplace=True)\n",
    "\n",
    "savee_df['emotions'].value_counts()\n",
    "# savee_df.emotions.hist(grid=False, figsize=(5,3))"
   ]
  },
  {
   "cell_type": "code",
   "execution_count": 43,
   "id": "5ec5da52-66a0-4e4b-b1ed-14e4a6a3935e",
   "metadata": {},
   "outputs": [
    {
     "data": {
      "text/plain": [
       "negative    7687\n",
       "neutral     2546\n",
       "happy       1922\n",
       "Name: emotions, dtype: int64"
      ]
     },
     "execution_count": 43,
     "metadata": {},
     "output_type": "execute_result"
    }
   ],
   "source": [
    "combined_df = pd.concat([ravdess_df, crema_df, tess_df, savee_df], axis=0)\n",
    "combined_df['emotions'].value_counts()"
   ]
  },
  {
   "cell_type": "code",
   "execution_count": 47,
   "id": "7491e141-5be7-45a8-891d-9b8a4dc4a824",
   "metadata": {
    "tags": []
   },
   "outputs": [],
   "source": [
    "## Downsampling \n",
    "\n",
    "class_counts = combined_df['emotions'].value_counts()\n",
    "\n",
    "# Determine the minority class count\n",
    "minority_count = class_counts.min()\n",
    "\n",
    "# Downsample the majority class\n",
    "downsampled_df = pd.concat([combined_df[combined_df['emotions'] == class_name].sample(minority_count, replace=False) for class_name in class_counts.index])\n",
    "\n",
    "# Shuffle the downsampled DataFrame to mix the classes\n",
    "downsampled_df = downsampled_df.sample(frac=1).reset_index(drop=True)\n",
    "\n",
    "# Now downsampled_df contains balanced classes\n"
   ]
  },
  {
   "cell_type": "code",
   "execution_count": 51,
   "id": "b9437877-40fd-49c4-863d-1bb58d0a7a2e",
   "metadata": {
    "tags": []
   },
   "outputs": [
    {
     "data": {
      "text/plain": [
       "neutral     1922\n",
       "happy       1922\n",
       "negative    1922\n",
       "Name: emotions, dtype: int64"
      ]
     },
     "execution_count": 51,
     "metadata": {},
     "output_type": "execute_result"
    }
   ],
   "source": [
    "downsampled_df['emotions'].value_counts()"
   ]
  },
  {
   "cell_type": "markdown",
   "id": "49e140c0-80b1-44f7-b381-980540528e65",
   "metadata": {},
   "source": [
    "## FEATURE EXTRACTION"
   ]
  },
  {
   "cell_type": "code",
   "execution_count": 6,
   "id": "1af9e3aa-1c30-468b-a32d-b861de9d3bf8",
   "metadata": {
    "tags": []
   },
   "outputs": [],
   "source": [
    "# Extracting Features \n",
    "\n",
    "def extract_features(file_path):\n",
    "    target_shape=(32,32)\n",
    "    # Load the audio file\n",
    "    y, sr = librosa.load(str(file_path))\n",
    "    y, _ = librosa.effects.trim(y, top_db=30)\n",
    "    \n",
    "    # Extract features\n",
    "    mfccs = librosa.feature.mfcc(y=y, sr=sr, n_mfcc=13)\n",
    "    spectral_centroid = librosa.feature.spectral_centroid(y=y, sr=sr)\n",
    "    spectral_bandwidth = librosa.feature.spectral_bandwidth(y=y, sr=sr)\n",
    "    spectral_contrast = librosa.feature.spectral_contrast(y=y, sr=sr)\n",
    "    zero_crossing_rate = librosa.feature.zero_crossing_rate(y)\n",
    "    rms_energy = librosa.feature.rms(y=y)\n",
    "    chroma = np.mean(librosa.feature.chroma_stft(y=y, sr=sr))\n",
    "    stft = np.abs(librosa.stft(y))\n",
    "    Mel_spectrogram = np.mean(librosa.feature.melspectrogram(y=y , sr=sr))\n",
    "    # -------------------------------------------------------------------------\n",
    "    # mel_spec = librosa.feature.melspectrogram(y=y , sr=sr)\n",
    "    # mel_spec = resize(np.expand_dims(Mel_spectrogram,axis=-1),target_shape)\n",
    "\n",
    "\n",
    "    # Calculate mean and standard deviation for each feature\n",
    "    mfccs_mean = mfccs.mean(axis=1)\n",
    "    mfccs_std = mfccs.std(axis=1)\n",
    "    spectral_centroid_mean = spectral_centroid.mean(axis=1)\n",
    "    spectral_bandwidth_mean = spectral_bandwidth.mean(axis=1)\n",
    "    spectral_contrast_mean = spectral_contrast.mean(axis=1)\n",
    "    zero_crossing_rate_mean = zero_crossing_rate.mean()\n",
    "    rms_energy_mean = rms_energy.mean()\n",
    "    stft_mean = np.mean(stft)\n",
    "    mel_mean = np.mean(Mel_spectrogram)\n",
    "    \n",
    "\n",
    "    \n",
    "     # Convert NumPy arrays to lists\n",
    "    mfccs_mean = mfccs_mean.tolist()\n",
    "    mfccs_std = mfccs_std.tolist()\n",
    "    spectral_centroid_mean = spectral_centroid_mean.tolist()\n",
    "    spectral_bandwidth_mean = spectral_bandwidth_mean.tolist()\n",
    "    spectral_contrast_mean = spectral_contrast_mean.tolist()\n",
    "    # chroma_mean = chroma_mean.tolist()\n",
    "    stft_mean = stft_mean.tolist()\n",
    "    mel_mean = mel_mean.tolist()\n",
    "    \n",
    "    \n",
    "\n",
    "    # Create a dictionary with features\n",
    "    features = {\n",
    "        'mfccs_mean': mfccs_mean,\n",
    "        'mfccs_std': mfccs_std,\n",
    "        'spectral_centroid_mean': spectral_centroid_mean,\n",
    "        'spectral_bandwidth_mean': spectral_bandwidth_mean,\n",
    "        'spectral_contrast_mean': spectral_contrast_mean,\n",
    "        'zero_crossing_rate_mean': zero_crossing_rate_mean,\n",
    "        'rms_energy_mean': rms_energy_mean,\n",
    "        # 'chroma_mean': chroma_mean,\n",
    "        'stft_mean': stft_mean,\n",
    "        'mel_mean': mel_mean\n",
    "        # 'mel_spec': mel_spec\n",
    "    }\n",
    "    \n",
    "    # Create lists to store values of each feature\n",
    "    features_lists = []\n",
    "    column_names = []\n",
    "    for key, value in features.items():\n",
    "        if isinstance(value, list):\n",
    "            for i, v in enumerate(value):\n",
    "                features_lists.append(v)\n",
    "                column_names.append(f\"{key}_{i+1}\")\n",
    "        else:\n",
    "            features_lists.append(value)\n",
    "            column_names.append(key)\n",
    "    \n",
    "    # Create DataFrame\n",
    "    df_features = pd.DataFrame([features_lists], columns=column_names)\n",
    "    \n",
    "    return df_features\n",
    "\n",
    "# Example usage:\n",
    "# file_path = df['path'][0] \n",
    "# features = extract_features(file_path)\n",
    "# features\n"
   ]
  },
  {
   "cell_type": "code",
   "execution_count": 87,
   "id": "07920027-3321-4b13-8442-11188e56da8b",
   "metadata": {
    "tags": []
   },
   "outputs": [],
   "source": [
    "feature_dfs = []\n",
    "for file_path in downsampled_df['path']:\n",
    "    features = extract_features(file_path)\n",
    "    feature_dfs.append(features)\n",
    "\n",
    "all_features = pd.concat(feature_dfs, ignore_index=True)"
   ]
  },
  {
   "cell_type": "code",
   "execution_count": 89,
   "id": "853e785c-1148-4ba5-848c-7235e34cd2e5",
   "metadata": {
    "tags": []
   },
   "outputs": [],
   "source": [
    "# df.reset_index(inplace=True, drop=True)\n",
    "all_features.reset_index(inplace=True, drop=True)\n",
    "df = pd.concat([all_features, downsampled_df['emotions']], axis=1)"
   ]
  },
  {
   "cell_type": "code",
   "execution_count": 91,
   "id": "db3164eb-27b1-4962-a279-e419d94da3d0",
   "metadata": {
    "tags": []
   },
   "outputs": [],
   "source": [
    "# Saving df to csv \n",
    "\n",
    "df.to_csv('all_features_df.csv')"
   ]
  },
  {
   "cell_type": "code",
   "execution_count": 7,
   "id": "6d746f3d-6279-4984-b2c3-f38564a0f209",
   "metadata": {
    "tags": []
   },
   "outputs": [],
   "source": [
    "url = 'all_features_df.csv'\n",
    "\n",
    "df = pd.read_csv(url)"
   ]
  },
  {
   "cell_type": "code",
   "execution_count": 8,
   "id": "2860de2f-fc0c-4a0b-802b-1c8f1a1210cf",
   "metadata": {
    "tags": []
   },
   "outputs": [
    {
     "data": {
      "text/html": [
       "<div>\n",
       "<style scoped>\n",
       "    .dataframe tbody tr th:only-of-type {\n",
       "        vertical-align: middle;\n",
       "    }\n",
       "\n",
       "    .dataframe tbody tr th {\n",
       "        vertical-align: top;\n",
       "    }\n",
       "\n",
       "    .dataframe thead th {\n",
       "        text-align: right;\n",
       "    }\n",
       "</style>\n",
       "<table border=\"1\" class=\"dataframe\">\n",
       "  <thead>\n",
       "    <tr style=\"text-align: right;\">\n",
       "      <th></th>\n",
       "      <th>mfccs_mean_1</th>\n",
       "      <th>mfccs_mean_2</th>\n",
       "      <th>mfccs_mean_3</th>\n",
       "      <th>mfccs_mean_4</th>\n",
       "      <th>mfccs_mean_5</th>\n",
       "      <th>mfccs_mean_6</th>\n",
       "      <th>mfccs_mean_7</th>\n",
       "      <th>mfccs_mean_8</th>\n",
       "      <th>mfccs_mean_9</th>\n",
       "      <th>mfccs_mean_10</th>\n",
       "      <th>...</th>\n",
       "      <th>spectral_contrast_mean_3</th>\n",
       "      <th>spectral_contrast_mean_4</th>\n",
       "      <th>spectral_contrast_mean_5</th>\n",
       "      <th>spectral_contrast_mean_6</th>\n",
       "      <th>spectral_contrast_mean_7</th>\n",
       "      <th>zero_crossing_rate_mean</th>\n",
       "      <th>rms_energy_mean</th>\n",
       "      <th>stft_mean</th>\n",
       "      <th>mel_mean</th>\n",
       "      <th>emotions</th>\n",
       "    </tr>\n",
       "  </thead>\n",
       "  <tbody>\n",
       "    <tr>\n",
       "      <th>0</th>\n",
       "      <td>-378.901886</td>\n",
       "      <td>79.931244</td>\n",
       "      <td>6.794762</td>\n",
       "      <td>-16.559580</td>\n",
       "      <td>-5.094950</td>\n",
       "      <td>-3.094817</td>\n",
       "      <td>-13.449599</td>\n",
       "      <td>0.553072</td>\n",
       "      <td>-19.864174</td>\n",
       "      <td>-0.766525</td>\n",
       "      <td>...</td>\n",
       "      <td>22.869333</td>\n",
       "      <td>20.410791</td>\n",
       "      <td>20.192741</td>\n",
       "      <td>19.061475</td>\n",
       "      <td>50.429022</td>\n",
       "      <td>0.115936</td>\n",
       "      <td>0.030976</td>\n",
       "      <td>0.207066</td>\n",
       "      <td>0.307167</td>\n",
       "      <td>neutral</td>\n",
       "    </tr>\n",
       "    <tr>\n",
       "      <th>1</th>\n",
       "      <td>-467.452942</td>\n",
       "      <td>98.444489</td>\n",
       "      <td>-8.537258</td>\n",
       "      <td>-8.255068</td>\n",
       "      <td>4.670306</td>\n",
       "      <td>6.660696</td>\n",
       "      <td>-20.866158</td>\n",
       "      <td>-2.611037</td>\n",
       "      <td>-14.775223</td>\n",
       "      <td>1.990485</td>\n",
       "      <td>...</td>\n",
       "      <td>23.067121</td>\n",
       "      <td>18.842320</td>\n",
       "      <td>21.837341</td>\n",
       "      <td>19.289042</td>\n",
       "      <td>49.437678</td>\n",
       "      <td>0.104952</td>\n",
       "      <td>0.015762</td>\n",
       "      <td>0.093781</td>\n",
       "      <td>0.079595</td>\n",
       "      <td>neutral</td>\n",
       "    </tr>\n",
       "    <tr>\n",
       "      <th>2</th>\n",
       "      <td>-353.956848</td>\n",
       "      <td>84.252098</td>\n",
       "      <td>13.754623</td>\n",
       "      <td>28.255699</td>\n",
       "      <td>-4.182642</td>\n",
       "      <td>5.049757</td>\n",
       "      <td>-20.740187</td>\n",
       "      <td>-8.281658</td>\n",
       "      <td>-5.365039</td>\n",
       "      <td>-0.612106</td>\n",
       "      <td>...</td>\n",
       "      <td>17.421699</td>\n",
       "      <td>17.799570</td>\n",
       "      <td>19.276750</td>\n",
       "      <td>17.539842</td>\n",
       "      <td>53.382486</td>\n",
       "      <td>0.042174</td>\n",
       "      <td>0.093678</td>\n",
       "      <td>0.422558</td>\n",
       "      <td>4.351565</td>\n",
       "      <td>neutral</td>\n",
       "    </tr>\n",
       "    <tr>\n",
       "      <th>3</th>\n",
       "      <td>-401.145264</td>\n",
       "      <td>152.990051</td>\n",
       "      <td>21.830980</td>\n",
       "      <td>58.064377</td>\n",
       "      <td>-10.765795</td>\n",
       "      <td>17.926888</td>\n",
       "      <td>-17.022535</td>\n",
       "      <td>4.178920</td>\n",
       "      <td>-13.437823</td>\n",
       "      <td>-0.787367</td>\n",
       "      <td>...</td>\n",
       "      <td>18.526446</td>\n",
       "      <td>16.891653</td>\n",
       "      <td>17.462261</td>\n",
       "      <td>17.218963</td>\n",
       "      <td>63.102425</td>\n",
       "      <td>0.041178</td>\n",
       "      <td>0.022270</td>\n",
       "      <td>0.124423</td>\n",
       "      <td>0.172468</td>\n",
       "      <td>neutral</td>\n",
       "    </tr>\n",
       "    <tr>\n",
       "      <th>4</th>\n",
       "      <td>-279.561188</td>\n",
       "      <td>94.172615</td>\n",
       "      <td>6.634775</td>\n",
       "      <td>28.394228</td>\n",
       "      <td>13.229555</td>\n",
       "      <td>1.417930</td>\n",
       "      <td>-24.028566</td>\n",
       "      <td>-4.458006</td>\n",
       "      <td>-6.126031</td>\n",
       "      <td>-14.821184</td>\n",
       "      <td>...</td>\n",
       "      <td>21.857485</td>\n",
       "      <td>19.046101</td>\n",
       "      <td>21.988965</td>\n",
       "      <td>17.780934</td>\n",
       "      <td>52.204393</td>\n",
       "      <td>0.022151</td>\n",
       "      <td>0.195556</td>\n",
       "      <td>0.792444</td>\n",
       "      <td>15.763338</td>\n",
       "      <td>happy</td>\n",
       "    </tr>\n",
       "  </tbody>\n",
       "</table>\n",
       "<p>5 rows × 40 columns</p>\n",
       "</div>"
      ],
      "text/plain": [
       "   mfccs_mean_1  mfccs_mean_2  mfccs_mean_3  mfccs_mean_4  mfccs_mean_5  \\\n",
       "0   -378.901886     79.931244      6.794762    -16.559580     -5.094950   \n",
       "1   -467.452942     98.444489     -8.537258     -8.255068      4.670306   \n",
       "2   -353.956848     84.252098     13.754623     28.255699     -4.182642   \n",
       "3   -401.145264    152.990051     21.830980     58.064377    -10.765795   \n",
       "4   -279.561188     94.172615      6.634775     28.394228     13.229555   \n",
       "\n",
       "   mfccs_mean_6  mfccs_mean_7  mfccs_mean_8  mfccs_mean_9  mfccs_mean_10  ...  \\\n",
       "0     -3.094817    -13.449599      0.553072    -19.864174      -0.766525  ...   \n",
       "1      6.660696    -20.866158     -2.611037    -14.775223       1.990485  ...   \n",
       "2      5.049757    -20.740187     -8.281658     -5.365039      -0.612106  ...   \n",
       "3     17.926888    -17.022535      4.178920    -13.437823      -0.787367  ...   \n",
       "4      1.417930    -24.028566     -4.458006     -6.126031     -14.821184  ...   \n",
       "\n",
       "   spectral_contrast_mean_3  spectral_contrast_mean_4  \\\n",
       "0                 22.869333                 20.410791   \n",
       "1                 23.067121                 18.842320   \n",
       "2                 17.421699                 17.799570   \n",
       "3                 18.526446                 16.891653   \n",
       "4                 21.857485                 19.046101   \n",
       "\n",
       "   spectral_contrast_mean_5  spectral_contrast_mean_6  \\\n",
       "0                 20.192741                 19.061475   \n",
       "1                 21.837341                 19.289042   \n",
       "2                 19.276750                 17.539842   \n",
       "3                 17.462261                 17.218963   \n",
       "4                 21.988965                 17.780934   \n",
       "\n",
       "   spectral_contrast_mean_7  zero_crossing_rate_mean  rms_energy_mean  \\\n",
       "0                 50.429022                 0.115936         0.030976   \n",
       "1                 49.437678                 0.104952         0.015762   \n",
       "2                 53.382486                 0.042174         0.093678   \n",
       "3                 63.102425                 0.041178         0.022270   \n",
       "4                 52.204393                 0.022151         0.195556   \n",
       "\n",
       "   stft_mean   mel_mean  emotions  \n",
       "0   0.207066   0.307167   neutral  \n",
       "1   0.093781   0.079595   neutral  \n",
       "2   0.422558   4.351565   neutral  \n",
       "3   0.124423   0.172468   neutral  \n",
       "4   0.792444  15.763338     happy  \n",
       "\n",
       "[5 rows x 40 columns]"
      ]
     },
     "execution_count": 8,
     "metadata": {},
     "output_type": "execute_result"
    }
   ],
   "source": [
    "df = df.drop(['Unnamed: 0'], axis=1)\n",
    "df.head()\n"
   ]
  },
  {
   "cell_type": "code",
   "execution_count": 9,
   "id": "087b8936-3587-495a-8d2a-3a6a9507a20f",
   "metadata": {
    "tags": []
   },
   "outputs": [
    {
     "name": "stdout",
     "output_type": "stream",
     "text": [
      "(5766, 1) (5766, 39)\n"
     ]
    }
   ],
   "source": [
    "\n",
    "\n",
    "X = df.drop(columns=['emotions'])  \n",
    "y = df[['emotions']]  \n",
    "\n",
    "print(y.shape, X.shape)"
   ]
  },
  {
   "cell_type": "code",
   "execution_count": 10,
   "id": "b4054f69-d9b4-4b8d-8027-ef3b5d8984e3",
   "metadata": {
    "tags": []
   },
   "outputs": [
    {
     "data": {
      "text/plain": [
       "emotions\n",
       "happy       1922\n",
       "negative    1922\n",
       "neutral     1922\n",
       "dtype: int64"
      ]
     },
     "execution_count": 10,
     "metadata": {},
     "output_type": "execute_result"
    }
   ],
   "source": [
    "y.value_counts()"
   ]
  },
  {
   "cell_type": "code",
   "execution_count": 11,
   "id": "fd21e809-351f-4d38-9fb5-7784c3a15673",
   "metadata": {
    "tags": []
   },
   "outputs": [],
   "source": [
    "# ## Encoding TEST\n",
    "\n",
    "# one_hot_encoder = OneHotEncoder()\n",
    "\n",
    "# x = one_hot_encoder.fit_transform(y)"
   ]
  },
  {
   "cell_type": "code",
   "execution_count": 12,
   "id": "334c7374-f672-4498-b5a8-96901ce00f5c",
   "metadata": {
    "tags": []
   },
   "outputs": [],
   "source": [
    "# # TEST dummies\n",
    "# y_ = pd.get_dummies(y) \n",
    "\n",
    "# y_"
   ]
  },
  {
   "cell_type": "code",
   "execution_count": 13,
   "id": "20a1a1e0-7e16-4260-a260-ac299785c8b4",
   "metadata": {
    "tags": []
   },
   "outputs": [
    {
     "name": "stdout",
     "output_type": "stream",
     "text": [
      "Train: (4612, 39) (4612, 1) \n",
      " Test: (1154, 39) (1154, 1)\n"
     ]
    }
   ],
   "source": [
    "\n",
    "X_train, X_test, y_train, y_test = train_test_split(X, y, test_size=0.2, random_state=42)\n",
    "\n",
    "print('Train:',X_train.shape, y_train.shape ,'\\n','Test:', X_test.shape, y_test.shape)\n"
   ]
  },
  {
   "cell_type": "code",
   "execution_count": 14,
   "id": "b9b7bb38-6fd2-4529-ad93-4eea899d798d",
   "metadata": {},
   "outputs": [],
   "source": [
    "# Scalers\n",
    "\n",
    "pt = PowerTransformer()\n",
    "minScaler = MinMaxScaler()\n",
    "stdScaler = StandardScaler()\n",
    "\n",
    "# Normaliztiion \n",
    "\n",
    "pt.fit(X_train)\n",
    "minScaler.fit(X_train)\n",
    "stdScaler.fit(X_train)\n",
    "\n",
    "# X_train_scaled = minScaler.transform(X_train)\n",
    "# X_test_scaled = minScaler.transform(X_test)\n",
    "\n",
    "# X_train_scaled = stdScaler.transform(X_train)\n",
    "# X_test_scaled = stdScaler.transform(X_test)\n",
    "\n",
    "# X_train_scaled = pt.transform(X_train)\n",
    "# X_test_scaled = pt.transform(X_test)\n",
    "\n",
    "X_train_scaled = pd.DataFrame(X_train, columns=X.columns)\n",
    "X_test_scaled = pd.DataFrame(X_test, columns=X.columns)\n",
    "\n"
   ]
  },
  {
   "cell_type": "code",
   "execution_count": 105,
   "id": "c3e484c9-97aa-405e-8e5f-e555fa563b0d",
   "metadata": {
    "tags": []
   },
   "outputs": [
    {
     "name": "stdout",
     "output_type": "stream",
     "text": [
      "Train Accuracy: 0.914570685169124\n",
      "Test Accuracy: 0.7079722703639515\n",
      "Classification Report:\n",
      "              precision    recall  f1-score   support\n",
      "\n",
      "       happy       0.69      0.77      0.73       398\n",
      "    negative       0.70      0.57      0.63       359\n",
      "     neutral       0.73      0.77      0.75       397\n",
      "\n",
      "    accuracy                           0.71      1154\n",
      "   macro avg       0.71      0.70      0.70      1154\n",
      "weighted avg       0.71      0.71      0.71      1154\n",
      "\n"
     ]
    }
   ],
   "source": [
    "from sklearn.ensemble import RandomForestClassifier\n",
    "from sklearn.metrics import accuracy_score, classification_report\n",
    "\n",
    "clf = RandomForestClassifier(bootstrap=True,\n",
    "                             max_depth=13,\n",
    "                             n_estimators=40, \n",
    "                             # max_leaf_nodes=15,\n",
    "                             min_samples_split=15,\n",
    "                             max_features='sqrt')\n",
    "clf.fit(X_train, y_train)\n",
    "\n",
    "y_train_pred = clf.predict(X_train)\n",
    "y_test_pred = clf.predict(X_test)\n",
    "\n",
    "train_accuracy = accuracy_score(y_train, y_train_pred)\n",
    "test_accuracy = accuracy_score(y_test, y_test_pred)\n",
    "\n",
    "print(\"Train Accuracy:\", train_accuracy)\n",
    "print(\"Test Accuracy:\", test_accuracy)\n",
    "\n",
    "print(\"Classification Report:\")\n",
    "print(classification_report(y_test, y_test_pred))\n"
   ]
  },
  {
   "cell_type": "code",
   "execution_count": 16,
   "id": "5cc7c2e1-7682-4409-8114-37180166eeef",
   "metadata": {
    "tags": []
   },
   "outputs": [],
   "source": [
    "# clf = ExtraTreesClassifier(bootstrap=False, max_depth=None, max_features='sqrt')    \n",
    "\n",
    "# clf.fit(X_train, y_train)\n",
    "\n",
    "# y_pred = clf.predict(X_test)\n",
    "\n",
    "# accuracy = accuracy_score(y_test, y_pred)\n",
    "# print(\"Accuracy:\", accuracy)\n",
    "\n",
    "# # Generate a classification report\n",
    "# print(\"Classification Report:\")\n",
    "# print(classification_report(y_test, y_pred))"
   ]
  },
  {
   "cell_type": "code",
   "execution_count": 106,
   "id": "1a547c22-1a3a-4f0b-bf69-db687b3b4a8b",
   "metadata": {
    "tags": []
   },
   "outputs": [
    {
     "name": "stdout",
     "output_type": "stream",
     "text": [
      "fold 1: 0.6934749620637329\n",
      "fold 2: 0.6904400606980273\n",
      "fold 3: 0.723823975720789\n",
      "fold 4: 0.7268588770864947\n",
      "fold 5: 0.6722306525037937\n",
      "fold 6: 0.6995447647951442\n",
      "fold 7: 0.7082066869300911\n",
      "Mean Accuracy: 0.7020828542568676\n"
     ]
    }
   ],
   "source": [
    "cv_scores = cross_val_score(clf, X_train, y_train, cv=7)\n",
    "#gridsearch_cv \n",
    "\n",
    "for i, score in enumerate(cv_scores):\n",
    "    print(f'fold {i+1}: {score}')\n",
    "\n",
    "mean_accuracy = cv_scores.mean()\n",
    "print(\"Mean Accuracy:\", mean_accuracy)"
   ]
  },
  {
   "cell_type": "code",
   "execution_count": 107,
   "id": "9528c344-92d7-4d56-87d6-575b402c4e41",
   "metadata": {
    "tags": []
   },
   "outputs": [
    {
     "data": {
      "image/png": "[encoded data removed]",
      "text/plain": [
       "<Figure size 500x300 with 2 Axes>"
      ]
     },
     "metadata": {},
     "output_type": "display_data"
    }
   ],
   "source": [
    "# Generate confusion matrix\n",
    "cm = confusion_matrix(y_test, y_pred)\n",
    "\n",
    "clases = ['happy', 'negative', 'neutral']\n",
    "\n",
    "# Plot confusion matrix\n",
    "plt.figure(figsize=(5, 3))\n",
    "sns.heatmap(cm, annot=True, fmt=\"d\", cmap=\"Blues\", xticklabels=clases, yticklabels=clases)\n",
    "plt.title(\"Confusion Matrix\")\n",
    "plt.xlabel(\"Predicted Label\")\n",
    "plt.ylabel(\"True Label\")\n",
    "plt.tight_layout()\n",
    "plt.show()\n"
   ]
  },
  {
   "cell_type": "code",
   "execution_count": 108,
   "id": "54a11188-0615-49cf-8434-c035c40f27b2",
   "metadata": {
    "tags": []
   },
   "outputs": [
    {
     "data": {
      "text/plain": [
       "['final_model.pkl']"
      ]
     },
     "execution_count": 108,
     "metadata": {},
     "output_type": "execute_result"
    }
   ],
   "source": [
    "import joblib\n",
    "\n",
    "final_model = RandomForestClassifier()\n",
    "\n",
    "X_final = X\n",
    "y_final = y\n",
    "\n",
    "minScaler.fit(X)\n",
    "\n",
    "# X_final = minScaler.transform(X_final)\n",
    "X_final = pd.DataFrame(X_final, columns=X.columns)\n",
    "\n",
    "final_model.fit(X_final, y_final)\n",
    "joblib.dump(final_model, 'final_model.pkl')\n",
    "\n",
    "\n"
   ]
  },
  {
   "cell_type": "code",
   "execution_count": 109,
   "id": "2302a3ac-7e43-4ddb-b0b8-64aa577e8684",
   "metadata": {
    "tags": []
   },
   "outputs": [],
   "source": [
    "final_model = joblib.load('final_model.pkl')\n",
    "\n",
    "def run_pred(path):\n",
    "    msg = extract_features(path)\n",
    "    # msg_t = minScaler.transform(msg)\n",
    "    msg_t = pd.DataFrame(msg, columns=X.columns)\n",
    "    y_pred_ = final_model.predict(msg_t)\n",
    "    \n",
    "    print(y_pred_)\n",
    "    return Audio(path)"
   ]
  },
  {
   "cell_type": "code",
   "execution_count": 123,
   "id": "39cbd960-2fd8-4c48-8a29-beba04b7e539",
   "metadata": {
    "tags": []
   },
   "outputs": [
    {
     "name": "stdout",
     "output_type": "stream",
     "text": [
      "['negative']\n"
     ]
    },
    {
     "data": {
      "text/html": [
       "\n",
       "                <audio  controls=\"controls\" >\n",
       "                    <source src=\"data:audio/ogg;base64,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\" type=\"audio/ogg\" />\n",
       "                    Your browser does not support the audio element.\n",
       "                </audio>\n",
       "              "
      ],
      "text/plain": [
       "<IPython.lib.display.Audio object>"
      ]
     },
     "execution_count": 123,
     "metadata": {},
     "output_type": "execute_result"
    }
   ],
   "source": [
    "run_pred('ira.ogg')"
   ]
  },
  {
   "cell_type": "code",
   "execution_count": null,
   "id": "854c4c9c-1478-404a-8334-a7c73ce331c5",
   "metadata": {},
   "outputs": [],
   "source": []
  }
 ],
 "metadata": {
  "kernelspec": {
   "display_name": "Python 3 (ipykernel)",
   "language": "python",
   "name": "python3"
  },
  "language_info": {
   "codemirror_mode": {
    "name": "ipython",
    "version": 3
   },
   "file_extension": ".py",
   "mimetype": "text/x-python",
   "name": "python",
   "nbconvert_exporter": "python",
   "pygments_lexer": "ipython3",
   "version": "3.11.5"
  }
 },
 "nbformat": 4,
 "nbformat_minor": 5
}
