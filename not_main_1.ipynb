{
 "cells": [
  {
   "cell_type": "code",
   "execution_count": 49,
   "id": "f8a8b534-fcd9-486a-8dc6-acf7699b757d",
   "metadata": {
    "tags": []
   },
   "outputs": [],
   "source": [
    "import librosa\n",
    "import numpy as np\n",
    "import pandas as pd\n",
    "import os\n",
    "from sklearn.model_selection import train_test_split\n",
    "from sklearn.preprocessing import MinMaxScaler, StandardScaler"
   ]
  },
  {
   "cell_type": "code",
   "execution_count": 2,
   "id": "9296f308-0bc6-4791-8b71-d79eb15c4689",
   "metadata": {
    "tags": []
   },
   "outputs": [],
   "source": [
    "wav_files = 'voice_file/'"
   ]
  },
  {
   "cell_type": "code",
   "execution_count": 3,
   "id": "bc153ef1-4e0b-43ca-985e-b969cfcb8b4f",
   "metadata": {
    "tags": []
   },
   "outputs": [
    {
     "data": {
      "text/plain": [
       "neutral     288\n",
       "happy       192\n",
       "sad         192\n",
       "angry       192\n",
       "fear        192\n",
       "disgust     192\n",
       "surprise    192\n",
       "Name: emotions, dtype: int64"
      ]
     },
     "execution_count": 3,
     "metadata": {},
     "output_type": "execute_result"
    }
   ],
   "source": [
    "# ravdess data\n",
    "ravdess_directory_list = os.listdir(wav_files)\n",
    "\n",
    "file_emotion = []\n",
    "file_path = []\n",
    "temp = []\n",
    "\n",
    "for dir in ravdess_directory_list:\n",
    "    actor_files = os.listdir(os.path.join(wav_files, dir))\n",
    "    for file in actor_files:\n",
    "        part = file.split('.')[0]\n",
    "        part = part.split('-')\n",
    "        temp.append(part)\n",
    "        file_path.append(wav_files + dir + '/' + file)\n",
    "    for i in temp:\n",
    "        if len(i) >= 3:  \n",
    "            file_emotion.append(int(i[2]))  \n",
    "        else:\n",
    "            file_emotion.append(None)\n",
    "            \n",
    "\n",
    "\n",
    "path_df = pd.DataFrame(file_path, columns=['path'])\n",
    "emotion_df = pd.DataFrame(file_emotion, columns=['emotions'])\n",
    "emotion_df.dropna(inplace=True)\n",
    "\n",
    "ravdess_df = pd.concat([emotion_df, path_df], axis=1)\n",
    "\n",
    "\n",
    "ravdess_df.emotions.replace({1:'neutral', 2:'neutral', 3:'happy', 4:'sad', 5:'angry', 6:'fear', 7:'disgust', 8:'surprise'}, inplace=True)\n",
    "ravdess_df['emotion_num'] = file_emotion\n",
    "\n",
    "\n",
    "ravdess_df.dropna(inplace=True)\n",
    "ravdess_df['emotions'].value_counts()"
   ]
  },
  {
   "cell_type": "code",
   "execution_count": 4,
   "id": "83e36d3b-70c9-4173-8049-2446c18d4919",
   "metadata": {
    "tags": []
   },
   "outputs": [
    {
     "data": {
      "text/plain": [
       "disgust    1270\n",
       "fear       1270\n",
       "happy      1270\n",
       "sad        1270\n",
       "angry      1269\n",
       "neutral    1086\n",
       "Name: emotions, dtype: int64"
      ]
     },
     "execution_count": 4,
     "metadata": {},
     "output_type": "execute_result"
    }
   ],
   "source": [
    "# crema data\n",
    "crema_directory_list = os.listdir('Crema')\n",
    "\n",
    "file_emotion = []\n",
    "file_path = []\n",
    "\n",
    "for file in crema_directory_list:\n",
    "    # storing file paths\n",
    "    file_path.append('Crema/' + file)\n",
    "    # storing file emotions\n",
    "    part=file.split('_')\n",
    "    if part[2] == 'SAD':\n",
    "        file_emotion.append('sad')\n",
    "    elif part[2] == 'ANG':\n",
    "        file_emotion.append('angry')\n",
    "    elif part[2] == 'DIS':\n",
    "        file_emotion.append('disgust')\n",
    "    elif part[2] == 'FEA':\n",
    "        file_emotion.append('fear')\n",
    "    elif part[2] == 'HAP':\n",
    "        file_emotion.append('happy')\n",
    "    elif part[2] == 'NEU':\n",
    "        file_emotion.append('neutral')\n",
    "    else:\n",
    "        file_emotion.append('Unknown')\n",
    "        \n",
    "# dataframe for emotion of files\n",
    "emotion_df = pd.DataFrame(file_emotion, columns=['emotions'])\n",
    "\n",
    "# dataframe for path of files.\n",
    "path_df = pd.DataFrame(file_path, columns=['path'])\n",
    "crema_df = pd.concat([emotion_df, path_df], axis=1)\n",
    "\n",
    "crema_df['emotion_num'] = file_emotion\n",
    "crema_df['emotion_num'].replace({'neutral':1, 'calm':2, 'happy':3, 'sad':4, 'angry':5 , 'fear':6, 'disgust':7, 'surprise':8}, inplace=True)\n",
    "\n",
    "# print(Crema_df.emotions.value_counts())\n",
    "crema_df['emotions'].value_counts()"
   ]
  },
  {
   "cell_type": "code",
   "execution_count": 5,
   "id": "8ed26dd4-d120-4c98-b74a-59dd413b3cb7",
   "metadata": {
    "tags": []
   },
   "outputs": [],
   "source": [
    "df = pd.concat([ravdess_df, crema_df], axis=0)"
   ]
  },
  {
   "cell_type": "code",
   "execution_count": 6,
   "id": "f814a6f9-63b7-48e4-9d89-0dfb6ba5b95d",
   "metadata": {
    "tags": []
   },
   "outputs": [],
   "source": [
    "df.reset_index(drop=True, inplace=True)"
   ]
  },
  {
   "cell_type": "code",
   "execution_count": 7,
   "id": "83ac1b3d-fcf3-4add-9809-3eb867f3f39c",
   "metadata": {
    "tags": []
   },
   "outputs": [
    {
     "data": {
      "text/html": [
       "<div>\n",
       "<style scoped>\n",
       "    .dataframe tbody tr th:only-of-type {\n",
       "        vertical-align: middle;\n",
       "    }\n",
       "\n",
       "    .dataframe tbody tr th {\n",
       "        vertical-align: top;\n",
       "    }\n",
       "\n",
       "    .dataframe thead th {\n",
       "        text-align: right;\n",
       "    }\n",
       "</style>\n",
       "<table border=\"1\" class=\"dataframe\">\n",
       "  <thead>\n",
       "    <tr style=\"text-align: right;\">\n",
       "      <th></th>\n",
       "      <th>emotions</th>\n",
       "      <th>path</th>\n",
       "      <th>emotion_num</th>\n",
       "    </tr>\n",
       "  </thead>\n",
       "  <tbody>\n",
       "    <tr>\n",
       "      <th>0</th>\n",
       "      <td>neutral</td>\n",
       "      <td>voice_file/Actor_01/03-01-01-01-01-01-01.wav</td>\n",
       "      <td>1</td>\n",
       "    </tr>\n",
       "    <tr>\n",
       "      <th>1</th>\n",
       "      <td>neutral</td>\n",
       "      <td>voice_file/Actor_01/03-01-01-01-01-02-01.wav</td>\n",
       "      <td>1</td>\n",
       "    </tr>\n",
       "    <tr>\n",
       "      <th>2</th>\n",
       "      <td>neutral</td>\n",
       "      <td>voice_file/Actor_01/03-01-01-01-02-01-01.wav</td>\n",
       "      <td>1</td>\n",
       "    </tr>\n",
       "    <tr>\n",
       "      <th>3</th>\n",
       "      <td>neutral</td>\n",
       "      <td>voice_file/Actor_01/03-01-01-01-02-02-01.wav</td>\n",
       "      <td>1</td>\n",
       "    </tr>\n",
       "    <tr>\n",
       "      <th>4</th>\n",
       "      <td>neutral</td>\n",
       "      <td>voice_file/Actor_01/03-01-02-01-01-01-01.wav</td>\n",
       "      <td>2</td>\n",
       "    </tr>\n",
       "    <tr>\n",
       "      <th>...</th>\n",
       "      <td>...</td>\n",
       "      <td>...</td>\n",
       "      <td>...</td>\n",
       "    </tr>\n",
       "    <tr>\n",
       "      <th>8870</th>\n",
       "      <td>disgust</td>\n",
       "      <td>Crema/1091_WSI_DIS_XX.wav</td>\n",
       "      <td>7</td>\n",
       "    </tr>\n",
       "    <tr>\n",
       "      <th>8871</th>\n",
       "      <td>fear</td>\n",
       "      <td>Crema/1091_WSI_FEA_XX.wav</td>\n",
       "      <td>6</td>\n",
       "    </tr>\n",
       "    <tr>\n",
       "      <th>8872</th>\n",
       "      <td>happy</td>\n",
       "      <td>Crema/1091_WSI_HAP_XX.wav</td>\n",
       "      <td>3</td>\n",
       "    </tr>\n",
       "    <tr>\n",
       "      <th>8873</th>\n",
       "      <td>neutral</td>\n",
       "      <td>Crema/1091_WSI_NEU_XX.wav</td>\n",
       "      <td>1</td>\n",
       "    </tr>\n",
       "    <tr>\n",
       "      <th>8874</th>\n",
       "      <td>sad</td>\n",
       "      <td>Crema/1091_WSI_SAD_XX.wav</td>\n",
       "      <td>4</td>\n",
       "    </tr>\n",
       "  </tbody>\n",
       "</table>\n",
       "<p>8875 rows × 3 columns</p>\n",
       "</div>"
      ],
      "text/plain": [
       "     emotions                                          path  emotion_num\n",
       "0     neutral  voice_file/Actor_01/03-01-01-01-01-01-01.wav            1\n",
       "1     neutral  voice_file/Actor_01/03-01-01-01-01-02-01.wav            1\n",
       "2     neutral  voice_file/Actor_01/03-01-01-01-02-01-01.wav            1\n",
       "3     neutral  voice_file/Actor_01/03-01-01-01-02-02-01.wav            1\n",
       "4     neutral  voice_file/Actor_01/03-01-02-01-01-01-01.wav            2\n",
       "...       ...                                           ...          ...\n",
       "8870  disgust                     Crema/1091_WSI_DIS_XX.wav            7\n",
       "8871     fear                     Crema/1091_WSI_FEA_XX.wav            6\n",
       "8872    happy                     Crema/1091_WSI_HAP_XX.wav            3\n",
       "8873  neutral                     Crema/1091_WSI_NEU_XX.wav            1\n",
       "8874      sad                     Crema/1091_WSI_SAD_XX.wav            4\n",
       "\n",
       "[8875 rows x 3 columns]"
      ]
     },
     "execution_count": 7,
     "metadata": {},
     "output_type": "execute_result"
    }
   ],
   "source": [
    "df"
   ]
  },
  {
   "cell_type": "code",
   "execution_count": 8,
   "id": "67b0973f-6b04-43ba-8694-8a2f3e05c704",
   "metadata": {
    "tags": []
   },
   "outputs": [],
   "source": [
    "# audio, sr = librosa.load(df['path'][0], res_type='kaiser_fast')\n",
    "# mfccs = librosa.feature.mfcc(y=audio, sr=sr, n_mfcc=40)\n",
    "# mfccs_mean = np.mean(mfccs.T,axis=0)\n",
    "\n",
    "# np.where(audio != 0)\n",
    "# mfccs.shape"
   ]
  },
  {
   "cell_type": "code",
   "execution_count": 9,
   "id": "b9428d50-9722-41fd-a2a8-a6354241be60",
   "metadata": {
    "tags": []
   },
   "outputs": [],
   "source": [
    "# max_len = 0\n",
    "\n",
    "# for audio in df['path']:\n",
    "#     a, sr = librosa.load(audio, res_type='kaiser_fast')\n",
    "#     max_len = max(a.shape[0], max_len) \n",
    "    \n"
   ]
  },
  {
   "cell_type": "code",
   "execution_count": 10,
   "id": "05a9b35b-80f0-443e-8a31-f88d101b3fd1",
   "metadata": {
    "tags": []
   },
   "outputs": [],
   "source": [
    "# max_len"
   ]
  },
  {
   "cell_type": "code",
   "execution_count": 11,
   "id": "540730c4-da4a-45ad-a411-92f12a1e2aaf",
   "metadata": {
    "tags": []
   },
   "outputs": [],
   "source": [
    "# Feature Extraction \n",
    "\n",
    "def extract_features(file_path):\n",
    "    try:\n",
    "        # Load the audio file\n",
    "        audio, sr = librosa.load(file_path, res_type='kaiser_fast')\n",
    "        \n",
    "        # Extract MFCCs\n",
    "        mfccs = librosa.feature.mfcc(y=audio, sr=sr, n_mfcc=40)\n",
    "        mfccs = mfccs.ravel().T\n",
    "        # mfccs_mean = np.mean(mfccs.T,axis=0)\n",
    "        \n",
    "        # Extract Spectral Centroid\n",
    "        spectral_centroid = librosa.feature.spectral_centroid(y=audio, sr=sr)\n",
    "        spectral_centroid = np.squeeze(spectral_centroid)\n",
    "        # spectral_centroid_mean = np.mean(spectral_centroid)\n",
    "        \n",
    "        # Combine MFCCs and Spectral Centroid into a single feature array\n",
    "        \n",
    "        # features = np.concatenate([mfccs, spectral_centroid])\n",
    "        \n",
    "        return mfccs, spectral_centroid\n",
    "    except Exception as e:\n",
    "        print(\"Error encountered while parsing file:\", file_path)\n",
    "        return None\n"
   ]
  },
  {
   "cell_type": "code",
   "execution_count": 12,
   "id": "56010568-935e-4725-a8af-919029b1156e",
   "metadata": {
    "tags": []
   },
   "outputs": [],
   "source": [
    "# Apply feature extraction function to each row in the DataFrame\n",
    "# df['features'] = df['path'].apply(extract_features)\n",
    "mfcc_ft = []\n",
    "spectral_ft = []\n",
    "\n",
    "for audio_path in df['path']:\n",
    "    mfccs, spectral_c = extract_features(audio_path)\n",
    "    mfcc_ft.append(mfccs)\n",
    "    spectral_ft.append(spectral_c)\n",
    "\n",
    "\n",
    "# Drop rows with errors\n",
    "# df = df.dropna()\n",
    "\n",
    "# Convert features to numpy array\n",
    "# X = np.array(df['features'].tolist())\n",
    "\n",
    "# Convert emotions to numerical labels\n",
    "# from sklearn.preprocessing import LabelEncoder\n",
    "\n",
    "# label_encoder = LabelEncoder()\n",
    "# y = label_encoder.fit_transform(df['emotions'])\n",
    "\n",
    "# Check the shape of X and y\n",
    "# print(\"Shape of X:\", X.shape)\n",
    "# print(\"Shape of y:\", y.shape)\n"
   ]
  },
  {
   "cell_type": "code",
   "execution_count": 13,
   "id": "6a10a6b4-9a73-46fb-a762-bf19a46b45a5",
   "metadata": {
    "jupyter": {
     "source_hidden": true
    },
    "tags": []
   },
   "outputs": [],
   "source": [
    "def padding(array, xx, yy):\n",
    "    \"\"\"\n",
    "    :param array: numpy array\n",
    "    :param xx: desired height\n",
    "    :param yy: desirex width\n",
    "    :return: padded array\n",
    "    \"\"\"\n",
    "    h = array.shape[0]\n",
    "    w = array.shape[1]\n",
    "    a = max((xx - h) // 2,0)\n",
    "    aa = max(0,xx - a - h)\n",
    "    b = max(0,(yy - w) // 2)\n",
    "    bb = max(yy - b - w,0)\n",
    "    return np.pad(array, pad_width=((a, aa), (b, bb)), mode='constant')"
   ]
  },
  {
   "cell_type": "code",
   "execution_count": 14,
   "id": "86f6a299-cdb2-4436-b5ed-1c7276fe0578",
   "metadata": {
    "tags": []
   },
   "outputs": [],
   "source": [
    "\n",
    "def pad_arrays(arrays, max_len):\n",
    "    for array in arrays:\n",
    "        padded_array = np.pad(array, (0, max_len - len(array)), mode='constant')\n",
    "        yield padded_array\n",
    "\n",
    "# maximum length\n",
    "max_len = 116247\n",
    "\n",
    "# Pad mfcc_ft list\n",
    "mfcc_ft_padded = []\n",
    "for padded_array in pad_arrays(mfcc_ft, max_len):\n",
    "    mfcc_ft_padded.append(padded_array)\n"
   ]
  },
  {
   "cell_type": "code",
   "execution_count": 16,
   "id": "1614f0de-b222-45a2-9aa6-94d22de95b75",
   "metadata": {
    "tags": []
   },
   "outputs": [],
   "source": [
    "# Pad spectral_ft list\n",
    "spectral_ft_padded = []\n",
    "for padded_array in pad_arrays(spectral_ft, max_len):\n",
    "    spectral_ft_padded.append(padded_array)\n"
   ]
  },
  {
   "cell_type": "code",
   "execution_count": 30,
   "id": "1ee562dc-9d1d-45d8-8960-4016343a1182",
   "metadata": {
    "tags": []
   },
   "outputs": [],
   "source": [
    "# WAY TOO HEAVY TO CONCAT 15Gib\n",
    "\n",
    "# df_padded = np.concatenate([mfcc_ft_padded, spectral_ft_padded], axis=1)"
   ]
  },
  {
   "cell_type": "code",
   "execution_count": 28,
   "id": "357a9705-8aab-4554-8444-88d4eb67aa01",
   "metadata": {
    "tags": []
   },
   "outputs": [
    {
     "data": {
      "text/plain": [
       "17750"
      ]
     },
     "execution_count": 28,
     "metadata": {},
     "output_type": "execute_result"
    }
   ],
   "source": [
    "# padding & concat \n",
    "# len(df_padded)"
   ]
  },
  {
   "cell_type": "code",
   "execution_count": 27,
   "id": "175033b9-6c2e-4fd5-9b8f-af50471922fc",
   "metadata": {
    "tags": []
   },
   "outputs": [
    {
     "data": {
      "text/plain": [
       "8875"
      ]
     },
     "execution_count": 27,
     "metadata": {},
     "output_type": "execute_result"
    }
   ],
   "source": [
    "len(mfcc_ft_padded)"
   ]
  },
  {
   "cell_type": "code",
   "execution_count": 35,
   "id": "879168fa-d117-4746-adfe-8f601ed78344",
   "metadata": {
    "tags": []
   },
   "outputs": [
    {
     "data": {
      "text/plain": [
       "array([[-857.3074 , -857.3074 , -857.3074 , ...,    0.     ,    0.     ,\n",
       "           0.     ],\n",
       "       [-864.88824, -864.88824, -864.88824, ...,    0.     ,    0.     ,\n",
       "           0.     ],\n",
       "       [-849.7949 , -847.55316, -844.9773 , ...,    0.     ,    0.     ,\n",
       "           0.     ],\n",
       "       ...,\n",
       "       [-568.812  , -541.89966, -538.7886 , ...,    0.     ,    0.     ,\n",
       "           0.     ],\n",
       "       [-567.7332 , -543.2253 , -540.13324, ...,    0.     ,    0.     ,\n",
       "           0.     ],\n",
       "       [-590.3429 , -553.7593 , -549.04663, ...,    0.     ,    0.     ,\n",
       "           0.     ]], dtype=float32)"
      ]
     },
     "execution_count": 35,
     "metadata": {},
     "output_type": "execute_result"
    }
   ],
   "source": [
    "X = np.array(mfcc_ft_padded)\n",
    "\n",
    "X"
   ]
  },
  {
   "cell_type": "code",
   "execution_count": 59,
   "id": "ae896c9b-f1bd-492d-a38a-3d8f3def7476",
   "metadata": {
    "tags": []
   },
   "outputs": [],
   "source": [
    "y = df['emotion_num']"
   ]
  },
  {
   "cell_type": "code",
   "execution_count": 60,
   "id": "29636c37-7ee7-4455-bedc-0877e13e8631",
   "metadata": {
    "tags": []
   },
   "outputs": [],
   "source": [
    "X_train, X_test, y_train, y_test = train_test_split(X, y, test_size=0.2, random_state=42)\n"
   ]
  },
  {
   "cell_type": "code",
   "execution_count": 61,
   "id": "e679ebb9-e585-4b43-8150-562ba628f3b2",
   "metadata": {
    "tags": []
   },
   "outputs": [
    {
     "name": "stdout",
     "output_type": "stream",
     "text": [
      "(7100, 116247) (7100,) (1775, 116247) (1775,)\n"
     ]
    }
   ],
   "source": [
    "print(X_train.shape, y_train.shape, X_test.shape, y_test.shape)"
   ]
  },
  {
   "cell_type": "code",
   "execution_count": 54,
   "id": "1554bcca-46eb-42a2-b44e-dbda5ab72656",
   "metadata": {
    "tags": []
   },
   "outputs": [
    {
     "data": {
      "text/plain": [
       "dtype('float32')"
      ]
     },
     "execution_count": 54,
     "metadata": {},
     "output_type": "execute_result"
    }
   ],
   "source": [
    "X_train.dtype"
   ]
  },
  {
   "cell_type": "code",
   "execution_count": 55,
   "id": "22d0d3eb-29b6-4580-b47e-0efa41733700",
   "metadata": {
    "tags": []
   },
   "outputs": [],
   "source": [
    "# minmax_scaler = MinMaxScaler()\n",
    "# std_scaler = StandardScaler()\n",
    "\n",
    "# minmax_scaler.fit_transform(X_train)\n",
    "# std_scaler.fit_transform(X_train)"
   ]
  },
  {
   "cell_type": "code",
   "execution_count": 36,
   "id": "191c0c5a-efcf-401c-bb7f-b628bdeb712f",
   "metadata": {
    "tags": []
   },
   "outputs": [
    {
     "name": "stderr",
     "output_type": "stream",
     "text": [
      "C:\\Users\\Nimrod\\AppData\\Local\\Temp\\ipykernel_3824\\1366708735.py:7: RuntimeWarning: invalid value encountered in divide\n",
      "  X_scaled = (X - X_min) / (X_max - X_min)\n",
      "C:\\Users\\Nimrod\\AppData\\Local\\Temp\\ipykernel_3824\\1366708735.py:13: RuntimeWarning: invalid value encountered in divide\n",
      "  X = (X - X_mean)/X_std\n"
     ]
    },
    {
     "data": {
      "text/plain": [
       "array([[0.29083088, 0.27722427, 0.26564667, ...,        nan,        nan,\n",
       "               nan],\n",
       "       [0.2827862 , 0.269556  , 0.2582986 , ...,        nan,        nan,\n",
       "               nan],\n",
       "       [0.29880294, 0.287091  , 0.27759808, ...,        nan,        nan,\n",
       "               nan],\n",
       "       ...,\n",
       "       [0.5969766 , 0.5962696 , 0.5743834 , ...,        nan,        nan,\n",
       "               nan],\n",
       "       [0.5981214 , 0.59492874, 0.57308   , ...,        nan,        nan,\n",
       "               nan],\n",
       "       [0.57412845, 0.5842732 , 0.56444037, ...,        nan,        nan,\n",
       "               nan]], dtype=float32)"
      ]
     },
     "execution_count": 36,
     "metadata": {},
     "output_type": "execute_result"
    }
   ],
   "source": [
    "# # Scalling \n",
    "\n",
    "# # MinMax Scalling\n",
    "# X_min = np.min(X, axis=0)\n",
    "# X_max = np.max(X, axis=0)\n",
    "\n",
    "# X_scaled = (X - X_min) / (X_max - X_min)\n",
    "\n",
    "# # Standard Scalling \n",
    "# X = X.astype(np.float32)\n",
    "# X_mean = np.mean(X, axis=0)\n",
    "# X_std = np.std(X, axis=0)\n",
    "# X = (X - X_mean)/X_std\n",
    "\n",
    "# X_scaled"
   ]
  },
  {
   "cell_type": "code",
   "execution_count": null,
   "id": "a590b832-3257-49a6-8bc3-b2a34a2af136",
   "metadata": {
    "tags": []
   },
   "outputs": [],
   "source": []
  },
  {
   "cell_type": "code",
   "execution_count": 62,
   "id": "f6134852-3304-49a4-9e8c-91dd60c7cd84",
   "metadata": {
    "tags": []
   },
   "outputs": [
    {
     "data": {
      "text/plain": [
       "3    1462\n",
       "4    1462\n",
       "6    1462\n",
       "7    1462\n",
       "5    1461\n",
       "1    1182\n",
       "2     192\n",
       "8     192\n",
       "Name: emotion_num, dtype: int64"
      ]
     },
     "execution_count": 62,
     "metadata": {},
     "output_type": "execute_result"
    }
   ],
   "source": [
    "df['emotion_num'].value_counts()"
   ]
  },
  {
   "cell_type": "code",
   "execution_count": 63,
   "id": "82ba5113-d810-42ef-b32d-8aa26e1065c1",
   "metadata": {},
   "outputs": [
    {
     "ename": "ResourceExhaustedError",
     "evalue": "{{function_node __wrapped__Mul_device_/job:localhost/replica:0/task:0/device:CPU:0}} OOM when allocating tensor with shape[465024,512] and type float on /job:localhost/replica:0/task:0/device:CPU:0 by allocator mklcpu [Op:Mul] name: ",
     "output_type": "error",
     "traceback": [
      "\u001b[1;31m---------------------------------------------------------------------------\u001b[0m",
      "\u001b[1;31mResourceExhaustedError\u001b[0m                    Traceback (most recent call last)",
      "Cell \u001b[1;32mIn[63], line 44\u001b[0m\n\u001b[0;32m     42\u001b[0m \u001b[38;5;66;03m# Example usage with regularization coefficient 0.01\u001b[39;00m\n\u001b[0;32m     43\u001b[0m reg_coef \u001b[38;5;241m=\u001b[39m \u001b[38;5;241m0.0001\u001b[39m\n\u001b[1;32m---> 44\u001b[0m model \u001b[38;5;241m=\u001b[39m get_regularized_model(reg_coef)\n\u001b[0;32m     45\u001b[0m model\u001b[38;5;241m.\u001b[39msummary()\n",
      "Cell \u001b[1;32mIn[63], line 5\u001b[0m, in \u001b[0;36mget_regularized_model\u001b[1;34m(reg_coef)\u001b[0m\n\u001b[0;32m      4\u001b[0m \u001b[38;5;28;01mdef\u001b[39;00m \u001b[38;5;21mget_regularized_model\u001b[39m(reg_coef):\n\u001b[1;32m----> 5\u001b[0m     model \u001b[38;5;241m=\u001b[39m tf\u001b[38;5;241m.\u001b[39mkeras\u001b[38;5;241m.\u001b[39mSequential([\n\u001b[0;32m      6\u001b[0m         L\u001b[38;5;241m.\u001b[39mConv1D(\u001b[38;5;241m512\u001b[39m, kernel_size\u001b[38;5;241m=\u001b[39m\u001b[38;5;241m5\u001b[39m, strides\u001b[38;5;241m=\u001b[39m\u001b[38;5;241m1\u001b[39m, padding\u001b[38;5;241m=\u001b[39m\u001b[38;5;124m'\u001b[39m\u001b[38;5;124msame\u001b[39m\u001b[38;5;124m'\u001b[39m, activation\u001b[38;5;241m=\u001b[39m\u001b[38;5;124m'\u001b[39m\u001b[38;5;124mrelu\u001b[39m\u001b[38;5;124m'\u001b[39m, input_shape\u001b[38;5;241m=\u001b[39m(X_train\u001b[38;5;241m.\u001b[39mshape[\u001b[38;5;241m1\u001b[39m], \u001b[38;5;241m1\u001b[39m),\n\u001b[0;32m      7\u001b[0m                  kernel_regularizer\u001b[38;5;241m=\u001b[39mtf\u001b[38;5;241m.\u001b[39mkeras\u001b[38;5;241m.\u001b[39mregularizers\u001b[38;5;241m.\u001b[39ml2(reg_coef)),\n\u001b[0;32m      8\u001b[0m         L\u001b[38;5;241m.\u001b[39mBatchNormalization(),\n\u001b[0;32m      9\u001b[0m         L\u001b[38;5;241m.\u001b[39mMaxPool1D(pool_size\u001b[38;5;241m=\u001b[39m\u001b[38;5;241m5\u001b[39m, strides\u001b[38;5;241m=\u001b[39m\u001b[38;5;241m2\u001b[39m, padding\u001b[38;5;241m=\u001b[39m\u001b[38;5;124m'\u001b[39m\u001b[38;5;124msame\u001b[39m\u001b[38;5;124m'\u001b[39m),\n\u001b[0;32m     10\u001b[0m \n\u001b[0;32m     11\u001b[0m         L\u001b[38;5;241m.\u001b[39mConv1D(\u001b[38;5;241m512\u001b[39m, kernel_size\u001b[38;5;241m=\u001b[39m\u001b[38;5;241m5\u001b[39m, strides\u001b[38;5;241m=\u001b[39m\u001b[38;5;241m1\u001b[39m, padding\u001b[38;5;241m=\u001b[39m\u001b[38;5;124m'\u001b[39m\u001b[38;5;124msame\u001b[39m\u001b[38;5;124m'\u001b[39m, activation\u001b[38;5;241m=\u001b[39m\u001b[38;5;124m'\u001b[39m\u001b[38;5;124mrelu\u001b[39m\u001b[38;5;124m'\u001b[39m,\n\u001b[0;32m     12\u001b[0m                  kernel_regularizer\u001b[38;5;241m=\u001b[39mtf\u001b[38;5;241m.\u001b[39mkeras\u001b[38;5;241m.\u001b[39mregularizers\u001b[38;5;241m.\u001b[39ml2(reg_coef)),\n\u001b[0;32m     13\u001b[0m         L\u001b[38;5;241m.\u001b[39mBatchNormalization(),\n\u001b[0;32m     14\u001b[0m         L\u001b[38;5;241m.\u001b[39mMaxPool1D(pool_size\u001b[38;5;241m=\u001b[39m\u001b[38;5;241m5\u001b[39m, strides\u001b[38;5;241m=\u001b[39m\u001b[38;5;241m2\u001b[39m, padding\u001b[38;5;241m=\u001b[39m\u001b[38;5;124m'\u001b[39m\u001b[38;5;124msame\u001b[39m\u001b[38;5;124m'\u001b[39m),\n\u001b[0;32m     15\u001b[0m         L\u001b[38;5;241m.\u001b[39mDropout(\u001b[38;5;241m0.2\u001b[39m),  \u001b[38;5;66;03m# Import Dropout from keras.layers and use it here\u001b[39;00m\n\u001b[0;32m     16\u001b[0m \n\u001b[0;32m     17\u001b[0m         L\u001b[38;5;241m.\u001b[39mConv1D(\u001b[38;5;241m256\u001b[39m, kernel_size\u001b[38;5;241m=\u001b[39m\u001b[38;5;241m5\u001b[39m, strides\u001b[38;5;241m=\u001b[39m\u001b[38;5;241m1\u001b[39m, padding\u001b[38;5;241m=\u001b[39m\u001b[38;5;124m'\u001b[39m\u001b[38;5;124msame\u001b[39m\u001b[38;5;124m'\u001b[39m, activation\u001b[38;5;241m=\u001b[39m\u001b[38;5;124m'\u001b[39m\u001b[38;5;124mrelu\u001b[39m\u001b[38;5;124m'\u001b[39m,\n\u001b[0;32m     18\u001b[0m                  kernel_regularizer\u001b[38;5;241m=\u001b[39mtf\u001b[38;5;241m.\u001b[39mkeras\u001b[38;5;241m.\u001b[39mregularizers\u001b[38;5;241m.\u001b[39ml2(reg_coef)),\n\u001b[0;32m     19\u001b[0m         L\u001b[38;5;241m.\u001b[39mBatchNormalization(),\n\u001b[0;32m     20\u001b[0m         L\u001b[38;5;241m.\u001b[39mMaxPool1D(pool_size\u001b[38;5;241m=\u001b[39m\u001b[38;5;241m5\u001b[39m, strides\u001b[38;5;241m=\u001b[39m\u001b[38;5;241m2\u001b[39m, padding\u001b[38;5;241m=\u001b[39m\u001b[38;5;124m'\u001b[39m\u001b[38;5;124msame\u001b[39m\u001b[38;5;124m'\u001b[39m),\n\u001b[0;32m     21\u001b[0m \n\u001b[0;32m     22\u001b[0m         L\u001b[38;5;241m.\u001b[39mConv1D(\u001b[38;5;241m256\u001b[39m, kernel_size\u001b[38;5;241m=\u001b[39m\u001b[38;5;241m3\u001b[39m, strides\u001b[38;5;241m=\u001b[39m\u001b[38;5;241m1\u001b[39m, padding\u001b[38;5;241m=\u001b[39m\u001b[38;5;124m'\u001b[39m\u001b[38;5;124msame\u001b[39m\u001b[38;5;124m'\u001b[39m, activation\u001b[38;5;241m=\u001b[39m\u001b[38;5;124m'\u001b[39m\u001b[38;5;124mrelu\u001b[39m\u001b[38;5;124m'\u001b[39m,\n\u001b[0;32m     23\u001b[0m                  kernel_regularizer\u001b[38;5;241m=\u001b[39mtf\u001b[38;5;241m.\u001b[39mkeras\u001b[38;5;241m.\u001b[39mregularizers\u001b[38;5;241m.\u001b[39ml2(reg_coef)),\n\u001b[0;32m     24\u001b[0m         L\u001b[38;5;241m.\u001b[39mBatchNormalization(),\n\u001b[0;32m     25\u001b[0m         L\u001b[38;5;241m.\u001b[39mMaxPool1D(pool_size\u001b[38;5;241m=\u001b[39m\u001b[38;5;241m5\u001b[39m, strides\u001b[38;5;241m=\u001b[39m\u001b[38;5;241m2\u001b[39m, padding\u001b[38;5;241m=\u001b[39m\u001b[38;5;124m'\u001b[39m\u001b[38;5;124msame\u001b[39m\u001b[38;5;124m'\u001b[39m),\n\u001b[0;32m     26\u001b[0m         L\u001b[38;5;241m.\u001b[39mDropout(\u001b[38;5;241m0.2\u001b[39m),\n\u001b[0;32m     27\u001b[0m \n\u001b[0;32m     28\u001b[0m         L\u001b[38;5;241m.\u001b[39mConv1D(\u001b[38;5;241m128\u001b[39m, kernel_size\u001b[38;5;241m=\u001b[39m\u001b[38;5;241m3\u001b[39m, strides\u001b[38;5;241m=\u001b[39m\u001b[38;5;241m1\u001b[39m, padding\u001b[38;5;241m=\u001b[39m\u001b[38;5;124m'\u001b[39m\u001b[38;5;124msame\u001b[39m\u001b[38;5;124m'\u001b[39m, activation\u001b[38;5;241m=\u001b[39m\u001b[38;5;124m'\u001b[39m\u001b[38;5;124mrelu\u001b[39m\u001b[38;5;124m'\u001b[39m,\n\u001b[0;32m     29\u001b[0m                  kernel_regularizer\u001b[38;5;241m=\u001b[39mtf\u001b[38;5;241m.\u001b[39mkeras\u001b[38;5;241m.\u001b[39mregularizers\u001b[38;5;241m.\u001b[39ml2(reg_coef)),\n\u001b[0;32m     30\u001b[0m         L\u001b[38;5;241m.\u001b[39mBatchNormalization(),\n\u001b[0;32m     31\u001b[0m         L\u001b[38;5;241m.\u001b[39mMaxPool1D(pool_size\u001b[38;5;241m=\u001b[39m\u001b[38;5;241m3\u001b[39m, strides\u001b[38;5;241m=\u001b[39m\u001b[38;5;241m2\u001b[39m, padding\u001b[38;5;241m=\u001b[39m\u001b[38;5;124m'\u001b[39m\u001b[38;5;124msame\u001b[39m\u001b[38;5;124m'\u001b[39m),\n\u001b[0;32m     32\u001b[0m         L\u001b[38;5;241m.\u001b[39mDropout(\u001b[38;5;241m0.2\u001b[39m),\n\u001b[0;32m     33\u001b[0m \n\u001b[0;32m     34\u001b[0m         L\u001b[38;5;241m.\u001b[39mFlatten(),\n\u001b[0;32m     35\u001b[0m         L\u001b[38;5;241m.\u001b[39mDense(\u001b[38;5;241m512\u001b[39m, activation\u001b[38;5;241m=\u001b[39m\u001b[38;5;124m'\u001b[39m\u001b[38;5;124mrelu\u001b[39m\u001b[38;5;124m'\u001b[39m, kernel_regularizer\u001b[38;5;241m=\u001b[39mtf\u001b[38;5;241m.\u001b[39mkeras\u001b[38;5;241m.\u001b[39mregularizers\u001b[38;5;241m.\u001b[39ml2(reg_coef)),\n\u001b[0;32m     36\u001b[0m         L\u001b[38;5;241m.\u001b[39mBatchNormalization(),\n\u001b[0;32m     37\u001b[0m         L\u001b[38;5;241m.\u001b[39mDense(\u001b[38;5;241m7\u001b[39m, activation\u001b[38;5;241m=\u001b[39m\u001b[38;5;124m'\u001b[39m\u001b[38;5;124msoftmax\u001b[39m\u001b[38;5;124m'\u001b[39m)\n\u001b[0;32m     38\u001b[0m     ])\n\u001b[0;32m     39\u001b[0m     model\u001b[38;5;241m.\u001b[39mcompile(optimizer\u001b[38;5;241m=\u001b[39m\u001b[38;5;124m'\u001b[39m\u001b[38;5;124madam\u001b[39m\u001b[38;5;124m'\u001b[39m, loss\u001b[38;5;241m=\u001b[39m\u001b[38;5;124m'\u001b[39m\u001b[38;5;124msparse_categorical_crossentropy\u001b[39m\u001b[38;5;124m'\u001b[39m, metrics\u001b[38;5;241m=\u001b[39m[\u001b[38;5;124m'\u001b[39m\u001b[38;5;124maccuracy\u001b[39m\u001b[38;5;124m'\u001b[39m])\n\u001b[0;32m     40\u001b[0m     \u001b[38;5;28;01mreturn\u001b[39;00m model\n",
      "File \u001b[1;32m~\\anaconda3\\Lib\\site-packages\\tensorflow\\python\\trackable\\base.py:204\u001b[0m, in \u001b[0;36mno_automatic_dependency_tracking.<locals>._method_wrapper\u001b[1;34m(self, *args, **kwargs)\u001b[0m\n\u001b[0;32m    202\u001b[0m \u001b[38;5;28mself\u001b[39m\u001b[38;5;241m.\u001b[39m_self_setattr_tracking \u001b[38;5;241m=\u001b[39m \u001b[38;5;28;01mFalse\u001b[39;00m  \u001b[38;5;66;03m# pylint: disable=protected-access\u001b[39;00m\n\u001b[0;32m    203\u001b[0m \u001b[38;5;28;01mtry\u001b[39;00m:\n\u001b[1;32m--> 204\u001b[0m   result \u001b[38;5;241m=\u001b[39m method(\u001b[38;5;28mself\u001b[39m, \u001b[38;5;241m*\u001b[39margs, \u001b[38;5;241m*\u001b[39m\u001b[38;5;241m*\u001b[39mkwargs)\n\u001b[0;32m    205\u001b[0m \u001b[38;5;28;01mfinally\u001b[39;00m:\n\u001b[0;32m    206\u001b[0m   \u001b[38;5;28mself\u001b[39m\u001b[38;5;241m.\u001b[39m_self_setattr_tracking \u001b[38;5;241m=\u001b[39m previous_value  \u001b[38;5;66;03m# pylint: disable=protected-access\u001b[39;00m\n",
      "File \u001b[1;32m~\\anaconda3\\Lib\\site-packages\\keras\\src\\utils\\traceback_utils.py:70\u001b[0m, in \u001b[0;36mfilter_traceback.<locals>.error_handler\u001b[1;34m(*args, **kwargs)\u001b[0m\n\u001b[0;32m     67\u001b[0m     filtered_tb \u001b[38;5;241m=\u001b[39m _process_traceback_frames(e\u001b[38;5;241m.\u001b[39m__traceback__)\n\u001b[0;32m     68\u001b[0m     \u001b[38;5;66;03m# To get the full stack trace, call:\u001b[39;00m\n\u001b[0;32m     69\u001b[0m     \u001b[38;5;66;03m# `tf.debugging.disable_traceback_filtering()`\u001b[39;00m\n\u001b[1;32m---> 70\u001b[0m     \u001b[38;5;28;01mraise\u001b[39;00m e\u001b[38;5;241m.\u001b[39mwith_traceback(filtered_tb) \u001b[38;5;28;01mfrom\u001b[39;00m \u001b[38;5;28;01mNone\u001b[39;00m\n\u001b[0;32m     71\u001b[0m \u001b[38;5;28;01mfinally\u001b[39;00m:\n\u001b[0;32m     72\u001b[0m     \u001b[38;5;28;01mdel\u001b[39;00m filtered_tb\n",
      "File \u001b[1;32m~\\anaconda3\\Lib\\site-packages\\keras\\src\\backend.py:2100\u001b[0m, in \u001b[0;36mRandomGenerator.random_uniform\u001b[1;34m(self, shape, minval, maxval, dtype, nonce)\u001b[0m\n\u001b[0;32m   2098\u001b[0m     \u001b[38;5;28;01mif\u001b[39;00m nonce:\n\u001b[0;32m   2099\u001b[0m         seed \u001b[38;5;241m=\u001b[39m tf\u001b[38;5;241m.\u001b[39mrandom\u001b[38;5;241m.\u001b[39mexperimental\u001b[38;5;241m.\u001b[39mstateless_fold_in(seed, nonce)\n\u001b[1;32m-> 2100\u001b[0m     \u001b[38;5;28;01mreturn\u001b[39;00m tf\u001b[38;5;241m.\u001b[39mrandom\u001b[38;5;241m.\u001b[39mstateless_uniform(\n\u001b[0;32m   2101\u001b[0m         shape\u001b[38;5;241m=\u001b[39mshape,\n\u001b[0;32m   2102\u001b[0m         minval\u001b[38;5;241m=\u001b[39mminval,\n\u001b[0;32m   2103\u001b[0m         maxval\u001b[38;5;241m=\u001b[39mmaxval,\n\u001b[0;32m   2104\u001b[0m         dtype\u001b[38;5;241m=\u001b[39mdtype,\n\u001b[0;32m   2105\u001b[0m         seed\u001b[38;5;241m=\u001b[39mseed,\n\u001b[0;32m   2106\u001b[0m     )\n\u001b[0;32m   2107\u001b[0m \u001b[38;5;28;01mreturn\u001b[39;00m tf\u001b[38;5;241m.\u001b[39mrandom\u001b[38;5;241m.\u001b[39muniform(\n\u001b[0;32m   2108\u001b[0m     shape\u001b[38;5;241m=\u001b[39mshape,\n\u001b[0;32m   2109\u001b[0m     minval\u001b[38;5;241m=\u001b[39mminval,\n\u001b[1;32m   (...)\u001b[0m\n\u001b[0;32m   2112\u001b[0m     seed\u001b[38;5;241m=\u001b[39m\u001b[38;5;28mself\u001b[39m\u001b[38;5;241m.\u001b[39mmake_legacy_seed(),\n\u001b[0;32m   2113\u001b[0m )\n",
      "\u001b[1;31mResourceExhaustedError\u001b[0m: {{function_node __wrapped__Mul_device_/job:localhost/replica:0/task:0/device:CPU:0}} OOM when allocating tensor with shape[465024,512] and type float on /job:localhost/replica:0/task:0/device:CPU:0 by allocator mklcpu [Op:Mul] name: "
     ]
    }
   ],
   "source": [
    "import tensorflow as tf\n",
    "from tensorflow.keras import layers as L\n",
    "\n",
    "def get_regularized_model(reg_coef):\n",
    "    model = tf.keras.Sequential([\n",
    "        L.Conv1D(512, kernel_size=5, strides=1, padding='same', activation='relu', input_shape=(X_train.shape[1], 1),\n",
    "                 kernel_regularizer=tf.keras.regularizers.l2(reg_coef)),\n",
    "        L.BatchNormalization(),\n",
    "        L.MaxPool1D(pool_size=5, strides=2, padding='same'),\n",
    "\n",
    "        L.Conv1D(512, kernel_size=5, strides=1, padding='same', activation='relu',\n",
    "                 kernel_regularizer=tf.keras.regularizers.l2(reg_coef)),\n",
    "        L.BatchNormalization(),\n",
    "        L.MaxPool1D(pool_size=5, strides=2, padding='same'),\n",
    "        L.Dropout(0.2),  # Import Dropout from keras.layers and use it here\n",
    "\n",
    "        L.Conv1D(256, kernel_size=5, strides=1, padding='same', activation='relu',\n",
    "                 kernel_regularizer=tf.keras.regularizers.l2(reg_coef)),\n",
    "        L.BatchNormalization(),\n",
    "        L.MaxPool1D(pool_size=5, strides=2, padding='same'),\n",
    "\n",
    "        L.Conv1D(256, kernel_size=3, strides=1, padding='same', activation='relu',\n",
    "                 kernel_regularizer=tf.keras.regularizers.l2(reg_coef)),\n",
    "        L.BatchNormalization(),\n",
    "        L.MaxPool1D(pool_size=5, strides=2, padding='same'),\n",
    "        L.Dropout(0.2),\n",
    "\n",
    "        L.Conv1D(128, kernel_size=3, strides=1, padding='same', activation='relu',\n",
    "                 kernel_regularizer=tf.keras.regularizers.l2(reg_coef)),\n",
    "        L.BatchNormalization(),\n",
    "        L.MaxPool1D(pool_size=3, strides=2, padding='same'),\n",
    "        L.Dropout(0.2),\n",
    "\n",
    "        L.Flatten(),\n",
    "        L.Dense(512, activation='relu', kernel_regularizer=tf.keras.regularizers.l2(reg_coef)),\n",
    "        L.BatchNormalization(),\n",
    "        L.Dense(7, activation='softmax')\n",
    "    ])\n",
    "    model.compile(optimizer='adam', loss='sparse_categorical_crossentropy', metrics=['accuracy'])\n",
    "    return model\n",
    "\n",
    "# Example usage with regularization coefficient 0.01\n",
    "reg_coef = 0.0001\n",
    "model = get_regularized_model(reg_coef)\n",
    "model.summary()\n"
   ]
  },
  {
   "cell_type": "code",
   "execution_count": 64,
   "id": "78c657b9-12b7-49ad-a582-8d7f2d677397",
   "metadata": {
    "tags": []
   },
   "outputs": [
    {
     "ename": "MemoryError",
     "evalue": "Unable to allocate 3.07 GiB for an array with shape (7100, 116247) and data type float32",
     "output_type": "error",
     "traceback": [
      "\u001b[1;31m---------------------------------------------------------------------------\u001b[0m",
      "\u001b[1;31mMemoryError\u001b[0m                               Traceback (most recent call last)",
      "Cell \u001b[1;32mIn[64], line 2\u001b[0m\n\u001b[0;32m      1\u001b[0m \u001b[38;5;66;03m# Train the model\u001b[39;00m\n\u001b[1;32m----> 2\u001b[0m history \u001b[38;5;241m=\u001b[39m model\u001b[38;5;241m.\u001b[39mfit(X_train, y_train, epochs\u001b[38;5;241m=\u001b[39m\u001b[38;5;241m10\u001b[39m, batch_size\u001b[38;5;241m=\u001b[39m\u001b[38;5;241m32\u001b[39m)\n",
      "File \u001b[1;32m~\\anaconda3\\Lib\\site-packages\\keras\\src\\utils\\traceback_utils.py:70\u001b[0m, in \u001b[0;36mfilter_traceback.<locals>.error_handler\u001b[1;34m(*args, **kwargs)\u001b[0m\n\u001b[0;32m     67\u001b[0m     filtered_tb \u001b[38;5;241m=\u001b[39m _process_traceback_frames(e\u001b[38;5;241m.\u001b[39m__traceback__)\n\u001b[0;32m     68\u001b[0m     \u001b[38;5;66;03m# To get the full stack trace, call:\u001b[39;00m\n\u001b[0;32m     69\u001b[0m     \u001b[38;5;66;03m# `tf.debugging.disable_traceback_filtering()`\u001b[39;00m\n\u001b[1;32m---> 70\u001b[0m     \u001b[38;5;28;01mraise\u001b[39;00m e\u001b[38;5;241m.\u001b[39mwith_traceback(filtered_tb) \u001b[38;5;28;01mfrom\u001b[39;00m \u001b[38;5;28;01mNone\u001b[39;00m\n\u001b[0;32m     71\u001b[0m \u001b[38;5;28;01mfinally\u001b[39;00m:\n\u001b[0;32m     72\u001b[0m     \u001b[38;5;28;01mdel\u001b[39;00m filtered_tb\n",
      "File \u001b[1;32m~\\anaconda3\\Lib\\site-packages\\tensorflow\\python\\framework\\constant_op.py:91\u001b[0m, in \u001b[0;36mconvert_to_eager_tensor\u001b[1;34m(value, ctx, dtype)\u001b[0m\n\u001b[0;32m     71\u001b[0m \u001b[38;5;250m\u001b[39m\u001b[38;5;124;03m\"\"\"Converts the given `value` to an `EagerTensor`.\u001b[39;00m\n\u001b[0;32m     72\u001b[0m \n\u001b[0;32m     73\u001b[0m \u001b[38;5;124;03mNote that this function could return cached copies of created constants for\u001b[39;00m\n\u001b[1;32m   (...)\u001b[0m\n\u001b[0;32m     85\u001b[0m \u001b[38;5;124;03m  TypeError: if `dtype` is not compatible with the type of t.\u001b[39;00m\n\u001b[0;32m     86\u001b[0m \u001b[38;5;124;03m\"\"\"\u001b[39;00m\n\u001b[0;32m     87\u001b[0m \u001b[38;5;28;01mif\u001b[39;00m \u001b[38;5;28misinstance\u001b[39m(value, np\u001b[38;5;241m.\u001b[39mndarray):\n\u001b[0;32m     88\u001b[0m   \u001b[38;5;66;03m# Make a copy explicitly because the EagerTensor might share the underlying\u001b[39;00m\n\u001b[0;32m     89\u001b[0m   \u001b[38;5;66;03m# memory with the input array. Without this copy, users will be able to\u001b[39;00m\n\u001b[0;32m     90\u001b[0m   \u001b[38;5;66;03m# modify the EagerTensor after its creation by changing the input array.\u001b[39;00m\n\u001b[1;32m---> 91\u001b[0m   value \u001b[38;5;241m=\u001b[39m value\u001b[38;5;241m.\u001b[39mcopy()\n\u001b[0;32m     92\u001b[0m \u001b[38;5;28;01mif\u001b[39;00m \u001b[38;5;28misinstance\u001b[39m(value, ops\u001b[38;5;241m.\u001b[39mEagerTensor):\n\u001b[0;32m     93\u001b[0m   \u001b[38;5;28;01mif\u001b[39;00m dtype \u001b[38;5;129;01mis\u001b[39;00m \u001b[38;5;129;01mnot\u001b[39;00m \u001b[38;5;28;01mNone\u001b[39;00m \u001b[38;5;129;01mand\u001b[39;00m value\u001b[38;5;241m.\u001b[39mdtype \u001b[38;5;241m!=\u001b[39m dtype:\n",
      "\u001b[1;31mMemoryError\u001b[0m: Unable to allocate 3.07 GiB for an array with shape (7100, 116247) and data type float32"
     ]
    }
   ],
   "source": [
    "\n",
    "# Train the model\n",
    "history = model.fit(X_train, y_train, epochs=10, batch_size=32)"
   ]
  },
  {
   "cell_type": "code",
   "execution_count": 54,
   "id": "79b609b8-c6fe-4d39-aeaa-25811c3fbbe1",
   "metadata": {
    "tags": []
   },
   "outputs": [
    {
     "data": {
      "image/png": "[encoded data removed]",
      "text/plain": [
       "<Figure size 640x480 with 1 Axes>"
      ]
     },
     "metadata": {},
     "output_type": "display_data"
    },
    {
     "data": {
      "image/png": "[encoded data removed]",
      "text/plain": [
       "<Figure size 640x480 with 1 Axes>"
      ]
     },
     "metadata": {},
     "output_type": "display_data"
    }
   ],
   "source": [
    "import matplotlib.pyplot as plt\n",
    "\n",
    "# Plot training & validation loss values\n",
    "plt.plot(history.history['loss'])\n",
    "plt.plot(history.history['val_loss'])\n",
    "plt.title('Model loss')\n",
    "plt.ylabel('Loss')\n",
    "plt.xlabel('Epoch')\n",
    "plt.legend(['Train', 'Validation'], loc='upper left')\n",
    "plt.show()\n",
    "\n",
    "# Plot training & validation accuracy values\n",
    "plt.plot(history.history['accuracy'])\n",
    "plt.plot(history.history['val_accuracy'])\n",
    "plt.title('Model accuracy')\n",
    "plt.ylabel('Accuracy')\n",
    "plt.xlabel('Epoch')\n",
    "plt.legend(['Train', 'Validation'], loc='upper left')\n",
    "plt.show()\n"
   ]
  },
  {
   "cell_type": "code",
   "execution_count": 90,
   "id": "df734e16-0b3e-4f55-bf69-082ea8b372b8",
   "metadata": {
    "collapsed": true,
    "jupyter": {
     "outputs_hidden": true
    },
    "tags": []
   },
   "outputs": [
    {
     "name": "stdout",
     "output_type": "stream",
     "text": [
      "Reloading Tuner from my_dir\\my_project\\tuner0.json\n",
      "Epoch 1/50\n",
      "222/222 [==============================] - 3s 10ms/step - loss: 1.7924 - accuracy: 0.2577 - val_loss: 1.6447 - val_accuracy: 0.3127\n",
      "Epoch 2/50\n",
      "222/222 [==============================] - 2s 9ms/step - loss: 1.6431 - accuracy: 0.3124 - val_loss: 1.5939 - val_accuracy: 0.3239\n",
      "Epoch 3/50\n",
      "222/222 [==============================] - 2s 10ms/step - loss: 1.5992 - accuracy: 0.3307 - val_loss: 1.5552 - val_accuracy: 0.3617\n",
      "Epoch 4/50\n",
      "222/222 [==============================] - 2s 10ms/step - loss: 1.5634 - accuracy: 0.3520 - val_loss: 1.5171 - val_accuracy: 0.3882\n",
      "Epoch 5/50\n",
      "222/222 [==============================] - 3s 12ms/step - loss: 1.5449 - accuracy: 0.3613 - val_loss: 1.4968 - val_accuracy: 0.3854\n",
      "Epoch 6/50\n",
      "222/222 [==============================] - 2s 11ms/step - loss: 1.5196 - accuracy: 0.3797 - val_loss: 1.4764 - val_accuracy: 0.4023\n",
      "Epoch 7/50\n",
      "222/222 [==============================] - 2s 10ms/step - loss: 1.5047 - accuracy: 0.3945 - val_loss: 1.4687 - val_accuracy: 0.3983\n",
      "Epoch 8/50\n",
      "222/222 [==============================] - 2s 10ms/step - loss: 1.4821 - accuracy: 0.3968 - val_loss: 1.4531 - val_accuracy: 0.4096\n",
      "Epoch 9/50\n",
      "222/222 [==============================] - 3s 11ms/step - loss: 1.4637 - accuracy: 0.4192 - val_loss: 1.4783 - val_accuracy: 0.3955\n",
      "Epoch 10/50\n",
      "222/222 [==============================] - 2s 11ms/step - loss: 1.4494 - accuracy: 0.4232 - val_loss: 1.4171 - val_accuracy: 0.4186\n",
      "Epoch 11/50\n",
      "222/222 [==============================] - 2s 10ms/step - loss: 1.4313 - accuracy: 0.4289 - val_loss: 1.4084 - val_accuracy: 0.4518\n",
      "Epoch 12/50\n",
      "222/222 [==============================] - 3s 14ms/step - loss: 1.4194 - accuracy: 0.4344 - val_loss: 1.4137 - val_accuracy: 0.4276\n",
      "Epoch 13/50\n",
      "222/222 [==============================] - 2s 10ms/step - loss: 1.4041 - accuracy: 0.4389 - val_loss: 1.4166 - val_accuracy: 0.4355\n",
      "Epoch 14/50\n",
      "222/222 [==============================] - 2s 11ms/step - loss: 1.3897 - accuracy: 0.4454 - val_loss: 1.4195 - val_accuracy: 0.4310\n",
      "Epoch 15/50\n",
      "222/222 [==============================] - 2s 11ms/step - loss: 1.3848 - accuracy: 0.4476 - val_loss: 1.3965 - val_accuracy: 0.4389\n",
      "Epoch 16/50\n",
      "222/222 [==============================] - 2s 10ms/step - loss: 1.3656 - accuracy: 0.4549 - val_loss: 1.4058 - val_accuracy: 0.4270\n",
      "Epoch 17/50\n",
      "222/222 [==============================] - 2s 10ms/step - loss: 1.3523 - accuracy: 0.4548 - val_loss: 1.3739 - val_accuracy: 0.4569\n",
      "Epoch 18/50\n",
      "222/222 [==============================] - 3s 11ms/step - loss: 1.3358 - accuracy: 0.4720 - val_loss: 1.3442 - val_accuracy: 0.4744\n",
      "Epoch 19/50\n",
      "222/222 [==============================] - 2s 11ms/step - loss: 1.3319 - accuracy: 0.4739 - val_loss: 1.3649 - val_accuracy: 0.4496\n",
      "Epoch 20/50\n",
      "222/222 [==============================] - 2s 9ms/step - loss: 1.3016 - accuracy: 0.4817 - val_loss: 1.4024 - val_accuracy: 0.4394\n",
      "Epoch 21/50\n",
      "222/222 [==============================] - 2s 9ms/step - loss: 1.2862 - accuracy: 0.4889 - val_loss: 1.3337 - val_accuracy: 0.4727\n",
      "Epoch 22/50\n",
      "222/222 [==============================] - 2s 9ms/step - loss: 1.2834 - accuracy: 0.4880 - val_loss: 1.3450 - val_accuracy: 0.4642\n",
      "Epoch 23/50\n",
      "222/222 [==============================] - 2s 11ms/step - loss: 1.2706 - accuracy: 0.4963 - val_loss: 1.3435 - val_accuracy: 0.4569\n",
      "Epoch 24/50\n",
      "222/222 [==============================] - 2s 10ms/step - loss: 1.2455 - accuracy: 0.5059 - val_loss: 1.3498 - val_accuracy: 0.4631\n",
      "Epoch 25/50\n",
      "222/222 [==============================] - 3s 11ms/step - loss: 1.2408 - accuracy: 0.5079 - val_loss: 1.3562 - val_accuracy: 0.4727\n",
      "Epoch 26/50\n",
      "222/222 [==============================] - 2s 10ms/step - loss: 1.2204 - accuracy: 0.5166 - val_loss: 1.3498 - val_accuracy: 0.4648\n",
      "Epoch 27/50\n",
      "222/222 [==============================] - 2s 9ms/step - loss: 1.2128 - accuracy: 0.5146 - val_loss: 1.3612 - val_accuracy: 0.4665\n",
      "Epoch 28/50\n",
      "222/222 [==============================] - 2s 10ms/step - loss: 1.1898 - accuracy: 0.5363 - val_loss: 1.3494 - val_accuracy: 0.4766\n",
      "Epoch 29/50\n",
      "222/222 [==============================] - 2s 11ms/step - loss: 1.1749 - accuracy: 0.5342 - val_loss: 1.3629 - val_accuracy: 0.4738\n",
      "Epoch 30/50\n",
      "222/222 [==============================] - 2s 10ms/step - loss: 1.1600 - accuracy: 0.5430 - val_loss: 1.3651 - val_accuracy: 0.4654\n",
      "Epoch 31/50\n",
      "222/222 [==============================] - 2s 11ms/step - loss: 1.1434 - accuracy: 0.5506 - val_loss: 1.3691 - val_accuracy: 0.4834\n",
      "Epoch 32/50\n",
      "222/222 [==============================] - 2s 11ms/step - loss: 1.1289 - accuracy: 0.5514 - val_loss: 1.3946 - val_accuracy: 0.4513\n",
      "Epoch 33/50\n",
      "222/222 [==============================] - 3s 12ms/step - loss: 1.1156 - accuracy: 0.5666 - val_loss: 1.3712 - val_accuracy: 0.4682\n",
      "Epoch 34/50\n",
      "222/222 [==============================] - 2s 10ms/step - loss: 1.1117 - accuracy: 0.5618 - val_loss: 1.3760 - val_accuracy: 0.4715\n",
      "Epoch 35/50\n",
      "222/222 [==============================] - 2s 11ms/step - loss: 1.0769 - accuracy: 0.5761 - val_loss: 1.3947 - val_accuracy: 0.4620\n",
      "Epoch 36/50\n",
      "222/222 [==============================] - 2s 10ms/step - loss: 1.0774 - accuracy: 0.5768 - val_loss: 1.4136 - val_accuracy: 0.4710\n",
      "Epoch 37/50\n",
      "222/222 [==============================] - 2s 9ms/step - loss: 1.0579 - accuracy: 0.5865 - val_loss: 1.4080 - val_accuracy: 0.4693\n",
      "Epoch 38/50\n",
      "222/222 [==============================] - 2s 11ms/step - loss: 1.0352 - accuracy: 0.5904 - val_loss: 1.4812 - val_accuracy: 0.4682\n",
      "Epoch 39/50\n",
      "222/222 [==============================] - 3s 12ms/step - loss: 1.0440 - accuracy: 0.5859 - val_loss: 1.4488 - val_accuracy: 0.4642\n",
      "Epoch 40/50\n",
      "222/222 [==============================] - 2s 11ms/step - loss: 1.0268 - accuracy: 0.5842 - val_loss: 1.4437 - val_accuracy: 0.4569\n",
      "Epoch 41/50\n",
      "222/222 [==============================] - 3s 12ms/step - loss: 1.0086 - accuracy: 0.6044 - val_loss: 1.4482 - val_accuracy: 0.4777\n",
      "Epoch 42/50\n",
      "222/222 [==============================] - 3s 11ms/step - loss: 0.9902 - accuracy: 0.6075 - val_loss: 1.4711 - val_accuracy: 0.4490\n",
      "Epoch 43/50\n",
      "222/222 [==============================] - 2s 9ms/step - loss: 0.9693 - accuracy: 0.6231 - val_loss: 1.4542 - val_accuracy: 0.4732\n",
      "Epoch 44/50\n",
      "222/222 [==============================] - 2s 11ms/step - loss: 0.9576 - accuracy: 0.6235 - val_loss: 1.5184 - val_accuracy: 0.4608\n",
      "Epoch 45/50\n",
      "222/222 [==============================] - 3s 13ms/step - loss: 0.9576 - accuracy: 0.6185 - val_loss: 1.4778 - val_accuracy: 0.4755\n",
      "Epoch 46/50\n",
      "222/222 [==============================] - 2s 11ms/step - loss: 0.9341 - accuracy: 0.6300 - val_loss: 1.5840 - val_accuracy: 0.4518\n",
      "Epoch 47/50\n",
      "222/222 [==============================] - 2s 10ms/step - loss: 0.9109 - accuracy: 0.6462 - val_loss: 1.5728 - val_accuracy: 0.4670\n",
      "Epoch 48/50\n",
      "222/222 [==============================] - 2s 10ms/step - loss: 0.8975 - accuracy: 0.6499 - val_loss: 1.5619 - val_accuracy: 0.4732\n",
      "Epoch 49/50\n",
      "222/222 [==============================] - 3s 12ms/step - loss: 0.9061 - accuracy: 0.6494 - val_loss: 1.5433 - val_accuracy: 0.4648\n",
      "Epoch 50/50\n",
      "222/222 [==============================] - 2s 10ms/step - loss: 0.8716 - accuracy: 0.6562 - val_loss: 1.6124 - val_accuracy: 0.4530\n"
     ]
    },
    {
     "data": {
      "text/plain": [
       "<keras.src.callbacks.History at 0x1f69549c090>"
      ]
     },
     "execution_count": 90,
     "metadata": {},
     "output_type": "execute_result"
    }
   ],
   "source": [
    "import tensorflow as tf\n",
    "from tensorflow import keras\n",
    "from tensorflow.keras import layers\n",
    "from kerastuner.tuners import RandomSearch\n",
    "from kerastuner.engine.hyperparameters import HyperParameters\n",
    "import keras_tuner\n",
    "import keras\n",
    "\n",
    "# Define the CNN model\n",
    "def build_model(hp):\n",
    "    model = keras.Sequential()\n",
    "    model.add(layers.Reshape((41, 1), input_shape=(41,)))  # Reshape input to match new dimensionality\n",
    "    model.add(layers.Conv1D(hp.Int('conv1_filters', min_value=32, max_value=128, step=16),\n",
    "                             3,\n",
    "                             activation='relu'))\n",
    "    model.add(layers.MaxPooling1D(2))\n",
    "    model.add(layers.Conv1D(hp.Int('conv2_filters', min_value=32, max_value=128, step=16),\n",
    "                             3,\n",
    "                             activation='relu'))\n",
    "    model.add(layers.MaxPooling1D(2))\n",
    "    model.add(layers.Conv1D(hp.Int('conv3_filters', min_value=32, max_value=128, step=16),\n",
    "                             3,\n",
    "                             activation='relu'))\n",
    "    model.add(layers.GlobalAveragePooling1D())\n",
    "    model.add(layers.Dense(hp.Int('dense_units', min_value=32, max_value=128, step=16), activation='relu'))\n",
    "    model.add(layers.Dropout(0.5))\n",
    "    model.add(layers.Dense(8, activation='softmax'))  # Assuming 8 emotions\n",
    "    model.compile(optimizer='adam',\n",
    "                  loss='sparse_categorical_crossentropy',\n",
    "                  metrics=['accuracy'])\n",
    "    return model\n",
    "\n",
    "# Instantiate the RandomSearch tuner\n",
    "tuner = RandomSearch(build_model,\n",
    "                     objective='val_accuracy',\n",
    "                     max_trials=5,  # Adjust as needed\n",
    "                     directory='my_dir',\n",
    "                     project_name='my_project')\n",
    "\n",
    "# Perform hyperparameter search\n",
    "tuner.search(X_train, y_train,\n",
    "             epochs=5,  # Adjust as needed\n",
    "             validation_data=(X_val, y_val))\n",
    "\n",
    "# Get the best hyperparameters\n",
    "best_hps = tuner.get_best_hyperparameters(num_trials=1)[0]\n",
    "\n",
    "# Build the best model\n",
    "best_model = tuner.hypermodel.build(best_hps)\n",
    "\n",
    "# Train the best model\n",
    "best_model.fit(X_train, y_train, epochs=50, validation_data=(X_val, y_val))\n"
   ]
  },
  {
   "cell_type": "code",
   "execution_count": 78,
   "id": "bf308986-5fb1-4647-92d0-6c4d957f2cfe",
   "metadata": {
    "tags": []
   },
   "outputs": [
    {
     "name": "stdout",
     "output_type": "stream",
     "text": [
      "56/56 [==============================] - 0s 7ms/step - loss: 1.2398 - accuracy: 0.5223\n",
      "56/56 [==============================] - 1s 6ms/step\n"
     ]
    },
    {
     "data": {
      "image/png": "[encoded data removed]",
      "text/plain": [
       "<Figure size 1000x800 with 2 Axes>"
      ]
     },
     "metadata": {},
     "output_type": "display_data"
    }
   ],
   "source": [
    "from sklearn.model_selection import train_test_split\n",
    "\n",
    "# Split the data into training and validation sets\n",
    "X_train, X_val, y_train, y_val = train_test_split(X, y, test_size=0.2, random_state=42)\n",
    "\n",
    "# Evaluate the model on the validation set\n",
    "val_loss, val_accuracy = model.evaluate(X_val, y_val)\n",
    "\n",
    "# Get the predicted probabilities for each class\n",
    "y_val_pred_probs = model.predict(X_val)\n",
    "\n",
    "# Convert the predicted probabilities to class labels\n",
    "y_val_pred = np.argmax(y_val_pred_probs, axis=1)\n",
    "\n",
    "# Compute confusion matrix\n",
    "conf_matrix = confusion_matrix(y_val, y_val_pred)\n",
    "\n",
    "# Plot confusion matrix\n",
    "plt.figure(figsize=(10, 8))\n",
    "sns.heatmap(conf_matrix, annot=True, fmt='d', cmap='Blues')\n",
    "plt.xlabel('Predicted Labels')\n",
    "plt.ylabel('True Labels')\n",
    "plt.title('Confusion Matrix')\n",
    "plt.show()\n"
   ]
  }
 ],
 "metadata": {
  "kernelspec": {
   "display_name": "Python 3 (ipykernel)",
   "language": "python",
   "name": "python3"
  },
  "language_info": {
   "codemirror_mode": {
    "name": "ipython",
    "version": 3
   },
   "file_extension": ".py",
   "mimetype": "text/x-python",
   "name": "python",
   "nbconvert_exporter": "python",
   "pygments_lexer": "ipython3",
   "version": "3.11.5"
  }
 },
 "nbformat": 4,
 "nbformat_minor": 5
}
